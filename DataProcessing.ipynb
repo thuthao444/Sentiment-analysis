{
 "cells": [
  {
   "cell_type": "code",
   "execution_count": 88,
   "metadata": {},
   "outputs": [],
   "source": [
    "import pandas as pd\n",
    "import numpy as np\n",
    "import re"
   ]
  },
  {
   "cell_type": "code",
   "execution_count": 89,
   "metadata": {},
   "outputs": [],
   "source": [
    "data = pd.read_csv(\"Data/Data.csv\")"
   ]
  },
  {
   "cell_type": "code",
   "execution_count": 90,
   "metadata": {},
   "outputs": [],
   "source": [
    "# Loại bỏ các ký tự đặc biệt\n",
    "def clean_text(text):\n",
    "    text = re.sub(r'[^\\w\\s]', '', text)\n",
    "    return text\n",
    "\n",
    "data['comment_text_cleaned'] = data['comment_text'].apply(clean_text)"
   ]
  },
  {
   "cell_type": "code",
   "execution_count": 91,
   "metadata": {},
   "outputs": [],
   "source": [
    "teencode = {\n",
    "    \"không\": [\"hong\", \"hok\", \"khom\", \"khum\", \"k\", \"ko\", \"khong\", \"hem\", \"no\", \"hơm\", \"hôn\",\"hk\", \"hông\"],\n",
    "    \"biết\": [\"bít\", \"biếc\", \"bt\"],\n",
    "    \"rồi\": [\"ròi\", \"gòi\", \"rùi\", \"rui\", \"roi\", \"goy\", \"goi\", \"gui\", \"gùi\", \"ời\", \"oy\", \"òy\", \"roài\", \"ùi\",\"r\"],\n",
    "    \"tôi\": [\"teo\", \"toy\", \"tui\", \"t\"],\n",
    "    \"em\": [\"iem\", \"e\"],\n",
    "    \"yêu\": [\"iu\", \"ieo\"],\n",
    "    \"ôi\" : [\"ưi\", \"ui\"],\n",
    "    \"ừm\" :[\"um\", \"ờm\"],\n",
    "    \"ừ\" : [\"ò\", \"uk\", \"ầu\", \"ờ\"],\n",
    "    \"chồng\" : [\"ck\", \"chòng\"],\n",
    "    \"vợ\": [\"vk\", \"zợ\", \"zk\"],\n",
    "    \"ông\" : [\"ong\", \"ô\"],\n",
    "    \"anh\": [\"a\"],\n",
    "    \"bé\" :[\"pé\"],\n",
    "    \"chị\" : [\"chụy\", \"cj\", \"cỵ\", \"cị\"],\n",
    "    \"giờ\" :[\"h\"],\n",
    "    \"ch\":[\"ck\"],\n",
    "    \"ph\":[\"f\"],\n",
    "    \"th\":[\"tk\"],\n",
    "    \"nh\":[\"nk\"],\n",
    "    \"gì\": [\"j\", \"giề\", \"rì\", \"zì\"],\n",
    "    \"muốn\" : [\"mún\"],\n",
    "    \"học\" : [\"hc\"],\n",
    "    \"bạn\" :[\"bẹng\", \"bạng\", \"bn\", \"pạn\"],\n",
    "    \"mày\" :[\"m\", \"mèy\", \"mài\"],\n",
    "    \"đang\" : [\"aq\", \"đaq\", \"đag\", \"dang\", \"dag\"],\n",
    "    \"đường\": [\"đg\"],\n",
    "    \"làm\":['nàm', \"lèm\"],\n",
    "    \"cao\":['kao'],\n",
    "    'ch':['tr'],\n",
    "    'tr':['ch'],\n",
    "    'vậy':['zạy', 'zay', 'vại', 'dọ', 'dạ', 'zị', 'zậy', 'zọ', \"v\", 'z', 'dị'],\n",
    "    \"nội\":['nụi'],\n",
    "    \"quen\" :['wen'],\n",
    "    \"hoài\" : [\"quài\"],\n",
    "    \"ỉa\":['ẻ'],\n",
    "    \"hả\":['hỏ', 'hẻ', 'hở'],\n",
    "    \"bà\" :['pà'],\n",
    "    \"khùng\" :[\"khùm\", \"khùn\"],\n",
    "    \"điên\" :[\"đin\", \"điêng\"],\n",
    "    \"ngu\" :[\"nguk\"],\n",
    "    \"ngốc\" :[\"ngok\"],\n",
    "    \"được\" :[\"dc\", \"dk\", \"duoc\", \"đc\"],\n",
    "    \"trời\" : [\"chòi\", \"chời\", \"trùi\", \"tr\"],\n",
    "    \"cũng\" : [\"cũm\", \"cx\"],\n",
    "    \"nha\": [\"nhoa\", \"nho\", \"nhe\"],\n",
    "    \"diễn viên\" : [\"dv\"],\n",
    "    \"ca sĩ\" : [\"ca sỉ\", \"cs\"],\n",
    "    \"mọi người\" : [\"mọi ngừi\", \"mn\"],\n",
    "    \"thằng\" : [\"tk\",\"thg\"],\n",
    "    \"người\": [\"ngừi\", \"ng\"],\n",
    "    \"quá\": [\"qá\", \"wa\", \"quớ\"],\n",
    "    \"như thế nào\": [\"ntn\"]\n",
    "}\n",
    "\n",
    "# Tạo từ điển đảo ngược cho việc thay thế\n",
    "reverse_teencode = {teencode_word: full_word for full_word, teencode_list in teencode.items() for teencode_word in teencode_list}\n",
    "\n",
    "# Hàm thay thế teencode bằng từ đầy đủ\n",
    "def replace_teencode(text):\n",
    "    words = text.split()\n",
    "    replaced_words = [reverse_teencode.get(word, word) for word in words]\n",
    "    return ' '.join(replaced_words)\n",
    "\n",
    "# Áp dụng hàm replace_teencode vào cột comment_text_cleaned\n",
    "data['comment_text_cleaned'] = data['comment_text_cleaned'].apply(replace_teencode)\n"
   ]
  },
  {
   "cell_type": "code",
   "execution_count": 92,
   "metadata": {},
   "outputs": [],
   "source": [
    "# Chuyển đổi về chữ thường để giảm đa dạng\n",
    "data['comment_text_cleaned'] = data['comment_text_cleaned'].str.lower()"
   ]
  },
  {
   "cell_type": "code",
   "execution_count": 93,
   "metadata": {},
   "outputs": [],
   "source": [
    "# Loại bỏ các từ dừng (stop words)\n",
    "\n",
    "# Đọc các từ trong file stop words\n",
    "with open('Vietnamese_data/vietnamese-stop-words.txt', 'r', encoding='utf-8') as file:\n",
    "    stop_words = set(file.read())\n",
    "\n",
    "# Hàm loại bỏ các từ dừng\n",
    "def remove_stopwords(text):\n",
    "    return ' '.join([word for word in text.split() if word not in stop_words])\n",
    "\n",
    "# Áp dụng hàm remove_stopwords vào cột comment_text_cleaned\n",
    "data['comment_text_cleaned'] = data['comment_text_cleaned'].apply(remove_stopwords)"
   ]
  },
  {
   "cell_type": "code",
   "execution_count": 94,
   "metadata": {},
   "outputs": [
    {
     "data": {
      "text/html": [
       "<div>\n",
       "<style scoped>\n",
       "    .dataframe tbody tr th:only-of-type {\n",
       "        vertical-align: middle;\n",
       "    }\n",
       "\n",
       "    .dataframe tbody tr th {\n",
       "        vertical-align: top;\n",
       "    }\n",
       "\n",
       "    .dataframe thead th {\n",
       "        text-align: right;\n",
       "    }\n",
       "</style>\n",
       "<table border=\"1\" class=\"dataframe\">\n",
       "  <thead>\n",
       "    <tr style=\"text-align: right;\">\n",
       "      <th></th>\n",
       "      <th>comment_text</th>\n",
       "      <th>label</th>\n",
       "      <th>comment_text_cleaned</th>\n",
       "    </tr>\n",
       "  </thead>\n",
       "  <tbody>\n",
       "    <tr>\n",
       "      <th>0</th>\n",
       "      <td>Thật ra cái cfs nói ko sai mà. Lứa dv 8x còn c...</td>\n",
       "      <td>0</td>\n",
       "      <td>thật ra cái cfs nói không sai mà lứa diễn viên...</td>\n",
       "    </tr>\n",
       "    <tr>\n",
       "      <th>1</th>\n",
       "      <td>JCW có bộ Tội Ác Kinh Hoàng hay qá trời mỗi tộ...</td>\n",
       "      <td>1</td>\n",
       "      <td>jcw có bộ tội ác kinh hoàng hay quá trời mỗi t...</td>\n",
       "    </tr>\n",
       "    <tr>\n",
       "      <th>2</th>\n",
       "      <td>Lee Min Ho đẹp trai mà một màu quá, đóng vai g...</td>\n",
       "      <td>0</td>\n",
       "      <td>lee min ho đẹp trai mà một màu quá đóng vai gì...</td>\n",
       "    </tr>\n",
       "    <tr>\n",
       "      <th>3</th>\n",
       "      <td>Xem SJK đóng cậu út nhà tài phiệt thấy tụt moo...</td>\n",
       "      <td>-1</td>\n",
       "      <td>xem sjk đóng cậu út nhà tài phiệt thấy tụt moo...</td>\n",
       "    </tr>\n",
       "    <tr>\n",
       "      <th>4</th>\n",
       "      <td>Trong này t công nhận diễn xuất của 3 ông\\r\\nK...</td>\n",
       "      <td>1</td>\n",
       "      <td>trong này tôi công nhận diễn xuất của 3 ông ks...</td>\n",
       "    </tr>\n",
       "    <tr>\n",
       "      <th>...</th>\n",
       "      <td>...</td>\n",
       "      <td>...</td>\n",
       "      <td>...</td>\n",
       "    </tr>\n",
       "    <tr>\n",
       "      <th>2704</th>\n",
       "      <td>Dm ad viết t đọc t còn nhục hộ đám fan luôn ấy :)</td>\n",
       "      <td>-1</td>\n",
       "      <td>dm ad viết tôi đọc tôi còn nhục hộ đám fan luô...</td>\n",
       "    </tr>\n",
       "    <tr>\n",
       "      <th>2705</th>\n",
       "      <td>Viết cái lyric thôi cũng éo ra hồn nữa là prod...</td>\n",
       "      <td>-1</td>\n",
       "      <td>viết cái lyric thôi cũng éo ra hồn nữa là prod...</td>\n",
       "    </tr>\n",
       "    <tr>\n",
       "      <th>2706</th>\n",
       "      <td>Tại con người ai cũng biết ngại, rất tiếc ảnh ...</td>\n",
       "      <td>-1</td>\n",
       "      <td>tại con người ai cũng biết ngại rất tiếc ảnh k...</td>\n",
       "    </tr>\n",
       "    <tr>\n",
       "      <th>2707</th>\n",
       "      <td>Dẹp cái ông jack vớ vẩn này luôn đi cho trong ...</td>\n",
       "      <td>-1</td>\n",
       "      <td>dẹp cái ông jack vớ vẩn này luôn đi cho trong ...</td>\n",
       "    </tr>\n",
       "    <tr>\n",
       "      <th>2708</th>\n",
       "      <td>Mình thấy nước ngoài người ta làm nhạc là từ p...</td>\n",
       "      <td>0</td>\n",
       "      <td>mình thấy nước ngoài người ta làm nhạc là từ p...</td>\n",
       "    </tr>\n",
       "  </tbody>\n",
       "</table>\n",
       "<p>2709 rows × 3 columns</p>\n",
       "</div>"
      ],
      "text/plain": [
       "                                           comment_text  label  \\\n",
       "0     Thật ra cái cfs nói ko sai mà. Lứa dv 8x còn c...      0   \n",
       "1     JCW có bộ Tội Ác Kinh Hoàng hay qá trời mỗi tộ...      1   \n",
       "2     Lee Min Ho đẹp trai mà một màu quá, đóng vai g...      0   \n",
       "3     Xem SJK đóng cậu út nhà tài phiệt thấy tụt moo...     -1   \n",
       "4     Trong này t công nhận diễn xuất của 3 ông\\r\\nK...      1   \n",
       "...                                                 ...    ...   \n",
       "2704  Dm ad viết t đọc t còn nhục hộ đám fan luôn ấy :)     -1   \n",
       "2705  Viết cái lyric thôi cũng éo ra hồn nữa là prod...     -1   \n",
       "2706  Tại con người ai cũng biết ngại, rất tiếc ảnh ...     -1   \n",
       "2707  Dẹp cái ông jack vớ vẩn này luôn đi cho trong ...     -1   \n",
       "2708  Mình thấy nước ngoài người ta làm nhạc là từ p...      0   \n",
       "\n",
       "                                   comment_text_cleaned  \n",
       "0     thật ra cái cfs nói không sai mà lứa diễn viên...  \n",
       "1     jcw có bộ tội ác kinh hoàng hay quá trời mỗi t...  \n",
       "2     lee min ho đẹp trai mà một màu quá đóng vai gì...  \n",
       "3     xem sjk đóng cậu út nhà tài phiệt thấy tụt moo...  \n",
       "4     trong này tôi công nhận diễn xuất của 3 ông ks...  \n",
       "...                                                 ...  \n",
       "2704  dm ad viết tôi đọc tôi còn nhục hộ đám fan luô...  \n",
       "2705  viết cái lyric thôi cũng éo ra hồn nữa là prod...  \n",
       "2706  tại con người ai cũng biết ngại rất tiếc ảnh k...  \n",
       "2707  dẹp cái ông jack vớ vẩn này luôn đi cho trong ...  \n",
       "2708  mình thấy nước ngoài người ta làm nhạc là từ p...  \n",
       "\n",
       "[2709 rows x 3 columns]"
      ]
     },
     "execution_count": 94,
     "metadata": {},
     "output_type": "execute_result"
    }
   ],
   "source": [
    "data"
   ]
  },
  {
   "cell_type": "code",
   "execution_count": 96,
   "metadata": {},
   "outputs": [],
   "source": [
    "from sklearn.model_selection import train_test_split\n",
    "from sklearn.feature_extraction.text import CountVectorizer\n",
    "from sklearn import tree\n",
    "from sklearn.datasets import load_iris\n",
    "from sklearn.metrics import accuracy_score,confusion_matrix,classification_report\n",
    "from sklearn.linear_model import LogisticRegression"
   ]
  },
  {
   "cell_type": "code",
   "execution_count": 97,
   "metadata": {},
   "outputs": [],
   "source": [
    "X_train, X_test, y_train, y_test = train_test_split(data['comment_text_cleaned'], data['label'], test_size=0.2, random_state=42)"
   ]
  },
  {
   "cell_type": "markdown",
   "metadata": {},
   "source": [
    "### CountVectorizer"
   ]
  },
  {
   "cell_type": "code",
   "execution_count": 98,
   "metadata": {},
   "outputs": [],
   "source": [
    "vectorizer = CountVectorizer()\n",
    "X_train_vec = vectorizer.fit_transform(X_train)\n",
    "X_test_vec = vectorizer.transform(X_test)"
   ]
  },
  {
   "cell_type": "code",
   "execution_count": null,
   "metadata": {},
   "outputs": [],
   "source": [
    "# Xây dựng mô hình Decision Tree\n",
    "clf = tree.DecisionTreeClassifier()\n",
    "clf.fit(X_train_vec, y_train)\n",
    "\n",
    "# Đánh giá mô hình trên tập kiểm tra\n",
    "y_pred = clf.predict(X_test_vec)\n",
    "print(\"Accuracy:\", accuracy_score(y_test, y_pred))\n",
    "print(\"Classification Report:\\n\", classification_report(y_test, y_pred))\n"
   ]
  },
  {
   "cell_type": "code",
   "execution_count": null,
   "metadata": {},
   "outputs": [],
   "source": [
    "clf = LogisticRegression()\n",
    "clf.fit(X_train_vec, y_train)\n",
    "\n",
    "y_pred = clf.predict(X_test_vec)\n",
    "print(\"Accuracy:\", accuracy_score(y_test, y_pred))\n",
    "print(\"Classification Report:\\n\", classification_report(y_test, y_pred))"
   ]
  },
  {
   "cell_type": "code",
   "execution_count": 99,
   "metadata": {},
   "outputs": [
    {
     "name": "stdout",
     "output_type": "stream",
     "text": [
      "Accuracy: 0.7140221402214022\n",
      "Classification Report:\n",
      "               precision    recall  f1-score   support\n",
      "\n",
      "          -1       0.59      0.56      0.57       142\n",
      "           0       0.74      0.78      0.76       291\n",
      "           1       0.79      0.74      0.77       109\n",
      "\n",
      "    accuracy                           0.71       542\n",
      "   macro avg       0.71      0.69      0.70       542\n",
      "weighted avg       0.71      0.71      0.71       542\n",
      "\n"
     ]
    }
   ],
   "source": [
    "# SVM model\n",
    "from sklearn import svm\n",
    "\n",
    "svm_model = svm.SVC(kernel='linear')\n",
    "\n",
    "svm_model.fit(X_train_vec, y_train)\n",
    "\n",
    "y_pred = svm_model.predict(X_test_vec)\n",
    "\n",
    "print(\"Accuracy:\", accuracy_score(y_test, y_pred))\n",
    "print(\"Classification Report:\\n\", classification_report(y_test, y_pred))"
   ]
  },
  {
   "cell_type": "code",
   "execution_count": 62,
   "metadata": {},
   "outputs": [
    {
     "name": "stdout",
     "output_type": "stream",
     "text": [
      "Best parameters: {'C': 10, 'gamma': 0.01, 'kernel': 'rbf'}\n",
      "Accuracy: 0.7066420664206642\n",
      "Classification Report:\n",
      "               precision    recall  f1-score   support\n",
      "\n",
      "          -1       0.62      0.51      0.56       142\n",
      "           0       0.71      0.83      0.77       291\n",
      "           1       0.79      0.63      0.70       109\n",
      "\n",
      "    accuracy                           0.71       542\n",
      "   macro avg       0.71      0.66      0.68       542\n",
      "weighted avg       0.71      0.71      0.70       542\n",
      "\n"
     ]
    }
   ],
   "source": [
    "from sklearn.model_selection import GridSearchCV\n",
    "\n",
    "param_grid = {\n",
    "    'C': [0.1, 1, 10, 100, 1000],  \n",
    "    'kernel': ['linear', 'rbf', 'poly'], \n",
    "    'gamma': [1, 0.1, 0.01, 0.001, 0.0001],  \n",
    "}\n",
    "\n",
    "grid_search = GridSearchCV(estimator=svm_model, param_grid=param_grid, cv=5, scoring='accuracy')\n",
    "\n",
    "grid_search.fit(X_train_vec, y_train)\n",
    "\n",
    "best_params = grid_search.best_params_\n",
    "print(\"Best parameters:\", best_params)\n",
    "\n",
    "y_pred = grid_search.predict(X_test_vec)\n",
    "\n",
    "print(\"Accuracy:\", accuracy_score(y_test, y_pred))\n",
    "print(\"Classification Report:\\n\", classification_report(y_test, y_pred))\n"
   ]
  },
  {
   "cell_type": "code",
   "execution_count": 100,
   "metadata": {},
   "outputs": [
    {
     "name": "stdout",
     "output_type": "stream",
     "text": [
      "Accuracy: 0.7103321033210332\n",
      "Classification Report:\n",
      "               precision    recall  f1-score   support\n",
      "\n",
      "          -1       0.71      0.44      0.55       142\n",
      "           0       0.69      0.87      0.77       291\n",
      "           1       0.80      0.64      0.71       109\n",
      "\n",
      "    accuracy                           0.71       542\n",
      "   macro avg       0.73      0.65      0.67       542\n",
      "weighted avg       0.72      0.71      0.70       542\n",
      "\n"
     ]
    }
   ],
   "source": [
    "from sklearn import naive_bayes\n",
    "\n",
    "nb_model = naive_bayes.MultinomialNB()\n",
    "\n",
    "nb_model.fit(X_train_vec, y_train)\n",
    "\n",
    "y_pred = nb_model.predict(X_test_vec)\n",
    "\n",
    "print(\"Accuracy:\", accuracy_score(y_test, y_pred))\n",
    "print(\"Classification Report:\\n\", classification_report(y_test, y_pred))\n"
   ]
  },
  {
   "cell_type": "code",
   "execution_count": 101,
   "metadata": {},
   "outputs": [
    {
     "name": "stdout",
     "output_type": "stream",
     "text": [
      "Best parameters: {'alpha': 1.0, 'fit_prior': True}\n",
      "Accuracy: 0.7103321033210332\n",
      "Classification Report:\n",
      "               precision    recall  f1-score   support\n",
      "\n",
      "          -1       0.71      0.44      0.55       142\n",
      "           0       0.69      0.87      0.77       291\n",
      "           1       0.80      0.64      0.71       109\n",
      "\n",
      "    accuracy                           0.71       542\n",
      "   macro avg       0.73      0.65      0.67       542\n",
      "weighted avg       0.72      0.71      0.70       542\n",
      "\n"
     ]
    }
   ],
   "source": [
    "param_grid = {\n",
    "    'alpha': [0.1, 0.5, 1.0], \n",
    "    'fit_prior': [True, False], \n",
    "    'force_alpha': [True, False]\n",
    "}\n",
    "\n",
    "grid_search = GridSearchCV(estimator=nb_model, param_grid=param_grid, cv=5, scoring='accuracy')\n",
    "\n",
    "grid_search.fit(X_train_vec, y_train)\n",
    "\n",
    "best_params = grid_search.best_params_\n",
    "print(\"Best parameters:\", best_params)\n",
    "\n",
    "y_pred = grid_search.predict(X_test_vec)\n",
    "\n",
    "print(\"Accuracy:\", accuracy_score(y_test, y_pred))\n",
    "print(\"Classification Report:\\n\", classification_report(y_test, y_pred))\n"
   ]
  },
  {
   "cell_type": "markdown",
   "metadata": {},
   "source": [
    "### TD-TFP"
   ]
  },
  {
   "cell_type": "code",
   "execution_count": 107,
   "metadata": {},
   "outputs": [],
   "source": [
    "from sklearn.feature_extraction.text import TfidfVectorizer\n",
    "from sklearn.naive_bayes import MultinomialNB\n",
    "vectorizer = TfidfVectorizer()\n",
    "X_train_vec = vectorizer.fit_transform(X_train)\n",
    "X_test_vec = vectorizer.transform(X_test)"
   ]
  },
  {
   "cell_type": "code",
   "execution_count": 109,
   "metadata": {},
   "outputs": [
    {
     "name": "stdout",
     "output_type": "stream",
     "text": [
      "Accuracy: 0.6826568265682657\n",
      "Classification Report:\n",
      "               precision    recall  f1-score   support\n",
      "\n",
      "          -1       0.79      0.27      0.40       142\n",
      "           0       0.64      0.95      0.76       291\n",
      "           1       0.88      0.52      0.66       109\n",
      "\n",
      "    accuracy                           0.68       542\n",
      "   macro avg       0.77      0.58      0.61       542\n",
      "weighted avg       0.73      0.68      0.65       542\n",
      "\n"
     ]
    }
   ],
   "source": [
    "svm_model = svm.SVC()\n",
    "\n",
    "# Huấn luyện mô hình trên dữ liệu huấn luyện\n",
    "svm_model.fit(X_train_vec, y_train)\n",
    "\n",
    "# Dự đoán các nhãn cho dữ liệu kiểm tra\n",
    "y_pred = svm_model.predict(X_test_vec)\n",
    "\n",
    "print(\"Accuracy:\", accuracy_score(y_test, y_pred))\n",
    "print(\"Classification Report:\\n\", classification_report(y_test, y_pred))"
   ]
  },
  {
   "cell_type": "code",
   "execution_count": 110,
   "metadata": {},
   "outputs": [
    {
     "name": "stdout",
     "output_type": "stream",
     "text": [
      "Best parameters: {'C': 10, 'gamma': 1, 'kernel': 'rbf'}\n",
      "Accuracy: 0.7103321033210332\n",
      "Classification Report:\n",
      "               precision    recall  f1-score   support\n",
      "\n",
      "          -1       0.72      0.41      0.52       142\n",
      "           0       0.68      0.90      0.77       291\n",
      "           1       0.88      0.59      0.70       109\n",
      "\n",
      "    accuracy                           0.71       542\n",
      "   macro avg       0.76      0.63      0.67       542\n",
      "weighted avg       0.73      0.71      0.69       542\n",
      "\n"
     ]
    }
   ],
   "source": [
    "param_grid = {\n",
    "    'C': [0.1, 1, 10, 100, 1000],  \n",
    "    'kernel': ['linear', 'rbf', 'poly'], \n",
    "    'gamma': [1, 0.1, 0.01, 0.001, 0.0001],  \n",
    "}\n",
    "\n",
    "grid_search = GridSearchCV(estimator=svm_model, param_grid=param_grid, cv=5, scoring='accuracy')\n",
    "\n",
    "grid_search.fit(X_train_vec, y_train)\n",
    "\n",
    "best_params = grid_search.best_params_\n",
    "print(\"Best parameters:\", best_params)\n",
    "\n",
    "y_pred = grid_search.predict(X_test_vec)\n",
    "\n",
    "print(\"Accuracy:\", accuracy_score(y_test, y_pred))\n",
    "print(\"Classification Report:\\n\", classification_report(y_test, y_pred))\n"
   ]
  },
  {
   "cell_type": "code",
   "execution_count": 112,
   "metadata": {},
   "outputs": [
    {
     "name": "stdout",
     "output_type": "stream",
     "text": [
      "Accuracy: 0.6273062730627307\n",
      "Classification Report:\n",
      "               precision    recall  f1-score   support\n",
      "\n",
      "          -1       1.00      0.13      0.23       142\n",
      "           0       0.59      0.99      0.74       291\n",
      "           1       0.94      0.30      0.46       109\n",
      "\n",
      "    accuracy                           0.63       542\n",
      "   macro avg       0.84      0.47      0.47       542\n",
      "weighted avg       0.77      0.63      0.55       542\n",
      "\n"
     ]
    }
   ],
   "source": [
    "# Khởi tạo và huấn luyện mô hình Naive Bayes\n",
    "nb_model = MultinomialNB()\n",
    "nb_model.fit(X_train_vec, y_train)\n",
    "\n",
    "# Dự đoán nhãn cho dữ liệu kiểm tra\n",
    "y_pred = nb_model.predict(X_test_vec)\n",
    "\n",
    "print(\"Accuracy:\", accuracy_score(y_test, y_pred))\n",
    "print(\"Classification Report:\\n\", classification_report(y_test, y_pred))\n"
   ]
  },
  {
   "cell_type": "code",
   "execution_count": 118,
   "metadata": {},
   "outputs": [
    {
     "name": "stdout",
     "output_type": "stream",
     "text": [
      "Best parameters: {'alpha': 0.5, 'fit_prior': False, 'force_alpha': True}\n",
      "Accuracy: 0.7011070110701108\n",
      "Classification Report:\n",
      "               precision    recall  f1-score   support\n",
      "\n",
      "          -1       0.71      0.40      0.51       142\n",
      "           0       0.68      0.87      0.76       291\n",
      "           1       0.76      0.65      0.70       109\n",
      "\n",
      "    accuracy                           0.70       542\n",
      "   macro avg       0.72      0.64      0.66       542\n",
      "weighted avg       0.71      0.70      0.69       542\n",
      "\n"
     ]
    }
   ],
   "source": [
    "param_grid = {\n",
    "    'alpha': [0.1, 0.5, 1.0], \n",
    "    'fit_prior': [True, False], \n",
    "    'force_alpha': [True, False]\n",
    "}\n",
    "\n",
    "grid_search = GridSearchCV(estimator=nb_model, param_grid=param_grid, cv=5, scoring='accuracy')\n",
    "\n",
    "grid_search.fit(X_train_vec, y_train)\n",
    "\n",
    "best_params = grid_search.best_params_\n",
    "print(\"Best parameters:\", best_params)\n",
    "\n",
    "y_pred = grid_search.predict(X_test_vec)\n",
    "\n",
    "print(\"Accuracy:\", accuracy_score(y_test, y_pred))\n",
    "print(\"Classification Report:\\n\", classification_report(y_test, y_pred))\n"
   ]
  },
  {
   "cell_type": "code",
   "execution_count": null,
   "metadata": {},
   "outputs": [],
   "source": []
  },
  {
   "cell_type": "code",
   "execution_count": null,
   "metadata": {},
   "outputs": [],
   "source": []
  }
 ],
 "metadata": {
  "kernelspec": {
   "display_name": "Python 3",
   "language": "python",
   "name": "python3"
  },
  "language_info": {
   "codemirror_mode": {
    "name": "ipython",
    "version": 3
   },
   "file_extension": ".py",
   "mimetype": "text/x-python",
   "name": "python",
   "nbconvert_exporter": "python",
   "pygments_lexer": "ipython3",
   "version": "3.12.2"
  }
 },
 "nbformat": 4,
 "nbformat_minor": 2
}
