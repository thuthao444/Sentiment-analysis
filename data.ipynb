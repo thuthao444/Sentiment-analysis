{
 "cells": [
  {
   "cell_type": "code",
   "execution_count": 1,
   "metadata": {},
   "outputs": [],
   "source": [
    "import pandas as pd\n",
    "import numpy as np\n",
    "import re"
   ]
  },
  {
   "cell_type": "code",
   "execution_count": 2,
   "metadata": {},
   "outputs": [],
   "source": [
    "data = pd.read_csv(\"Data/Data.csv\")"
   ]
  },
  {
   "cell_type": "code",
   "execution_count": 3,
   "metadata": {},
   "outputs": [],
   "source": [
    "# Loại bỏ các ký tự đặc biệt\n",
    "def clean_text(text):\n",
    "    text = re.sub(r'[^\\w\\s]', '', text)\n",
    "    return text\n",
    "\n",
    "data['comment_text_cleaned'] = data['comment_text'].apply(clean_text)"
   ]
  },
  {
   "cell_type": "code",
   "execution_count": 4,
   "metadata": {},
   "outputs": [],
   "source": [
    "teencode = {\n",
    "    \"không\": [\"hong\", \"hok\", \"khom\", \"khum\", \"k\", \"ko\", \"khong\", \"hem\", \"no\", \"hơm\", \"hôn\",\"hk\", \"hông\"],\n",
    "    \"biết\": [\"bít\", \"biếc\", \"bt\"],\n",
    "    \"rồi\": [\"ròi\", \"gòi\", \"rùi\", \"rui\", \"roi\", \"goy\", \"goi\", \"gui\", \"gùi\", \"ời\", \"oy\", \"òy\", \"roài\", \"ùi\",\"r\"],\n",
    "    \"tôi\": [\"teo\", \"toy\", \"tui\", \"t\"],\n",
    "    \"em\": [\"iem\", \"e\"],\n",
    "    \"yêu\": [\"iu\", \"ieo\"],\n",
    "    \"ôi\" : [\"ưi\", \"ui\"],\n",
    "    \"ừm\" :[\"um\", \"ờm\"],\n",
    "    \"ừ\" : [\"ò\", \"uk\", \"ầu\", \"ờ\"],\n",
    "    \"chồng\" : [\"ck\", \"chòng\"],\n",
    "    \"vợ\": [\"vk\", \"zợ\", \"zk\"],\n",
    "    \"ông\" : [\"ong\", \"ô\"],\n",
    "    \"anh\": [\"a\"],\n",
    "    \"bé\" :[\"pé\"],\n",
    "    \"chị\" : [\"chụy\", \"cj\", \"cỵ\", \"cị\"],\n",
    "    \"giờ\" :[\"h\"],\n",
    "    \"ch\":[\"ck\"],\n",
    "    \"ph\":[\"f\"],\n",
    "    \"th\":[\"tk\"],\n",
    "    \"nh\":[\"nk\"],\n",
    "    \"gì\": [\"j\", \"giề\", \"rì\", \"zì\"],\n",
    "    \"muốn\" : [\"mún\"],\n",
    "    \"học\" : [\"hc\"],\n",
    "    \"bạn\" :[\"bẹng\", \"bạng\", \"bn\", \"pạn\"],\n",
    "    \"mày\" :[\"m\", \"mèy\", \"mài\"],\n",
    "    \"đang\" : [\"aq\", \"đaq\", \"đag\", \"dang\", \"dag\"],\n",
    "    \"đường\": [\"đg\"],\n",
    "    \"làm\":['nàm', \"lèm\"],\n",
    "    \"cao\":['kao'],\n",
    "    'ch':['tr'],\n",
    "    'tr':['ch'],\n",
    "    'vậy':['zạy', 'zay', 'vại', 'dọ', 'dạ', 'zị', 'zậy', 'zọ', \"v\", 'z', 'dị'],\n",
    "    \"nội\":['nụi'],\n",
    "    \"quen\" :['wen'],\n",
    "    \"hoài\" : [\"quài\"],\n",
    "    \"ỉa\":['ẻ'],\n",
    "    \"hả\":['hỏ', 'hẻ', 'hở'],\n",
    "    \"bà\" :['pà'],\n",
    "    \"khùng\" :[\"khùm\", \"khùn\"],\n",
    "    \"điên\" :[\"đin\", \"điêng\"],\n",
    "    \"ngu\" :[\"nguk\"],\n",
    "    \"ngốc\" :[\"ngok\"],\n",
    "    \"được\" :[\"dc\", \"dk\", \"duoc\", \"đc\"],\n",
    "    \"trời\" : [\"chòi\", \"chời\", \"trùi\", \"tr\"],\n",
    "    \"cũng\" : [\"cũm\", \"cx\"],\n",
    "    \"nha\": [\"nhoa\", \"nho\", \"nhe\"],\n",
    "    \"diễn viên\" : [\"dv\"],\n",
    "    \"ca sĩ\" : [\"ca sỉ\", \"cs\"],\n",
    "    \"mọi người\" : [\"mọi ngừi\", \"mn\"],\n",
    "    \"thằng\" : [\"tk\",\"thg\"],\n",
    "    \"người\": [\"ngừi\", \"ng\"],\n",
    "    \"quá\": [\"qá\", \"wa\", \"quớ\"]\n",
    "}\n",
    "\n",
    "# Tạo từ điển đảo ngược cho việc thay thế\n",
    "reverse_teencode = {teencode_word: full_word for full_word, teencode_list in teencode.items() for teencode_word in teencode_list}\n",
    "\n",
    "# Hàm thay thế teencode bằng từ đầy đủ\n",
    "def replace_teencode(text):\n",
    "    words = text.split()\n",
    "    replaced_words = [reverse_teencode.get(word, word) for word in words]\n",
    "    return ' '.join(replaced_words)\n",
    "\n",
    "# Áp dụng hàm replace_teencode vào cột comment_text_cleaned\n",
    "data['comment_text_cleaned'] = data['comment_text_cleaned'].apply(replace_teencode)\n"
   ]
  },
  {
   "cell_type": "code",
   "execution_count": 5,
   "metadata": {},
   "outputs": [],
   "source": [
    "# Chuyển đổi về chữ thường để giảm đa dạng\n",
    "data['comment_text_cleaned'] = data['comment_text_cleaned'].str.lower()"
   ]
  },
  {
   "cell_type": "code",
   "execution_count": 6,
   "metadata": {},
   "outputs": [],
   "source": [
    "# Loại bỏ các từ dừng (stop words)\n",
    "\n",
    "# Đọc các từ trong file stop words\n",
    "with open('Vietnamese_data/vietnamese-stop-words.txt', 'r', encoding='utf-8') as file:\n",
    "    stop_words = set(file.read())\n",
    "\n",
    "# Hàm loại bỏ các từ dừng\n",
    "def remove_stopwords(text):\n",
    "    return ' '.join([word for word in text.split() if word not in stop_words])\n",
    "\n",
    "# Áp dụng hàm remove_stopwords vào cột comment_text_cleaned\n",
    "data['comment_text_cleaned'] = data['comment_text_cleaned'].apply(remove_stopwords)"
   ]
  },
  {
   "cell_type": "code",
   "execution_count": 25,
   "metadata": {},
   "outputs": [],
   "source": [
    "# Loại bỏ các từ dừng (stop words)\n",
    "\n",
    "# Đọc các từ trong file stop words\n",
    "with open('Vietnamese_data/vnpernames.txt', 'r', encoding='utf-8') as file:\n",
    "    stop_words = set(file.read().split())\n",
    "\n",
    "# Hàm loại bỏ các từ dừng\n",
    "def remove_stopwords(text):\n",
    "    return ' '.join([word for word in text.split() if word not in stop_words])\n",
    "\n",
    "# Áp dụng hàm remove_stopwords vào cột comment_text_cleaned\n",
    "data['comment_text_cleaned'] = data['comment_text_cleaned'].apply(remove_stopwords)"
   ]
  },
  {
   "cell_type": "code",
   "execution_count": 26,
   "metadata": {},
   "outputs": [
    {
     "data": {
      "text/html": [
       "<div>\n",
       "<style scoped>\n",
       "    .dataframe tbody tr th:only-of-type {\n",
       "        vertical-align: middle;\n",
       "    }\n",
       "\n",
       "    .dataframe tbody tr th {\n",
       "        vertical-align: top;\n",
       "    }\n",
       "\n",
       "    .dataframe thead th {\n",
       "        text-align: right;\n",
       "    }\n",
       "</style>\n",
       "<table border=\"1\" class=\"dataframe\">\n",
       "  <thead>\n",
       "    <tr style=\"text-align: right;\">\n",
       "      <th></th>\n",
       "      <th>comment_text</th>\n",
       "      <th>label</th>\n",
       "      <th>comment_text_cleaned</th>\n",
       "    </tr>\n",
       "  </thead>\n",
       "  <tbody>\n",
       "    <tr>\n",
       "      <th>0</th>\n",
       "      <td>Thật ra cái cfs nói ko sai mà. Lứa dv 8x còn c...</td>\n",
       "      <td>0</td>\n",
       "      <td>thật ra cái cfs nói không sai mà lứa diễn viên...</td>\n",
       "    </tr>\n",
       "    <tr>\n",
       "      <th>1</th>\n",
       "      <td>JCW có bộ Tội Ác Kinh Hoàng hay qá trời mỗi tộ...</td>\n",
       "      <td>1</td>\n",
       "      <td>jcw có bộ tội ác kinh hoàng hay quá trời mỗi t...</td>\n",
       "    </tr>\n",
       "    <tr>\n",
       "      <th>2</th>\n",
       "      <td>Lee Min Ho đẹp trai mà một màu quá, đóng vai g...</td>\n",
       "      <td>0</td>\n",
       "      <td>lee min ho đẹp trai mà một màu quá đóng vai gì...</td>\n",
       "    </tr>\n",
       "    <tr>\n",
       "      <th>3</th>\n",
       "      <td>Xem SJK đóng cậu út nhà tài phiệt thấy tụt moo...</td>\n",
       "      <td>-1</td>\n",
       "      <td>xem sjk đóng cậu út nhà tài phiệt thấy tụt moo...</td>\n",
       "    </tr>\n",
       "    <tr>\n",
       "      <th>4</th>\n",
       "      <td>Trong này t công nhận diễn xuất của 3 ông\\nKSH...</td>\n",
       "      <td>1</td>\n",
       "      <td>trong này tôi nhận diễn xuất của 3 ông ksh ljs...</td>\n",
       "    </tr>\n",
       "    <tr>\n",
       "      <th>...</th>\n",
       "      <td>...</td>\n",
       "      <td>...</td>\n",
       "      <td>...</td>\n",
       "    </tr>\n",
       "    <tr>\n",
       "      <th>2704</th>\n",
       "      <td>Dm ad viết t đọc t còn nhục hộ đám fan luôn ấy :)</td>\n",
       "      <td>-1</td>\n",
       "      <td>dm ad viết tôi đọc tôi còn nhục hộ đám fan luô...</td>\n",
       "    </tr>\n",
       "    <tr>\n",
       "      <th>2705</th>\n",
       "      <td>Viết cái lyric thôi cũng éo ra hồn nữa là prod...</td>\n",
       "      <td>-1</td>\n",
       "      <td>viết cái lyric thôi cũng éo ra hồn nữa là prod...</td>\n",
       "    </tr>\n",
       "    <tr>\n",
       "      <th>2706</th>\n",
       "      <td>Tại con người ai cũng biết ngại, rất tiếc ảnh ...</td>\n",
       "      <td>-1</td>\n",
       "      <td>tại con người ai cũng biết ngại rất tiếc ảnh k...</td>\n",
       "    </tr>\n",
       "    <tr>\n",
       "      <th>2707</th>\n",
       "      <td>Dẹp cái ông jack vớ vẩn này luôn đi cho trong ...</td>\n",
       "      <td>-1</td>\n",
       "      <td>dẹp cái ông jack vớ vẩn này luôn đi cho trong ...</td>\n",
       "    </tr>\n",
       "    <tr>\n",
       "      <th>2708</th>\n",
       "      <td>Mình thấy nước ngoài người ta làm nhạc là từ p...</td>\n",
       "      <td>0</td>\n",
       "      <td>mình thấy nước ngoài người ta làm nhạc là pian...</td>\n",
       "    </tr>\n",
       "  </tbody>\n",
       "</table>\n",
       "<p>2709 rows × 3 columns</p>\n",
       "</div>"
      ],
      "text/plain": [
       "                                           comment_text  label  \\\n",
       "0     Thật ra cái cfs nói ko sai mà. Lứa dv 8x còn c...      0   \n",
       "1     JCW có bộ Tội Ác Kinh Hoàng hay qá trời mỗi tộ...      1   \n",
       "2     Lee Min Ho đẹp trai mà một màu quá, đóng vai g...      0   \n",
       "3     Xem SJK đóng cậu út nhà tài phiệt thấy tụt moo...     -1   \n",
       "4     Trong này t công nhận diễn xuất của 3 ông\\nKSH...      1   \n",
       "...                                                 ...    ...   \n",
       "2704  Dm ad viết t đọc t còn nhục hộ đám fan luôn ấy :)     -1   \n",
       "2705  Viết cái lyric thôi cũng éo ra hồn nữa là prod...     -1   \n",
       "2706  Tại con người ai cũng biết ngại, rất tiếc ảnh ...     -1   \n",
       "2707  Dẹp cái ông jack vớ vẩn này luôn đi cho trong ...     -1   \n",
       "2708  Mình thấy nước ngoài người ta làm nhạc là từ p...      0   \n",
       "\n",
       "                                   comment_text_cleaned  \n",
       "0     thật ra cái cfs nói không sai mà lứa diễn viên...  \n",
       "1     jcw có bộ tội ác kinh hoàng hay quá trời mỗi t...  \n",
       "2     lee min ho đẹp trai mà một màu quá đóng vai gì...  \n",
       "3     xem sjk đóng cậu út nhà tài phiệt thấy tụt moo...  \n",
       "4     trong này tôi nhận diễn xuất của 3 ông ksh ljs...  \n",
       "...                                                 ...  \n",
       "2704  dm ad viết tôi đọc tôi còn nhục hộ đám fan luô...  \n",
       "2705  viết cái lyric thôi cũng éo ra hồn nữa là prod...  \n",
       "2706  tại con người ai cũng biết ngại rất tiếc ảnh k...  \n",
       "2707  dẹp cái ông jack vớ vẩn này luôn đi cho trong ...  \n",
       "2708  mình thấy nước ngoài người ta làm nhạc là pian...  \n",
       "\n",
       "[2709 rows x 3 columns]"
      ]
     },
     "execution_count": 26,
     "metadata": {},
     "output_type": "execute_result"
    }
   ],
   "source": [
    "data"
   ]
  },
  {
   "cell_type": "code",
   "execution_count": 27,
   "metadata": {},
   "outputs": [],
   "source": [
    "from sklearn.model_selection import train_test_split\n",
    "\n",
    "# X là features, y là labels\n",
    "X_train, X_temp, y_train, y_temp  = train_test_split(data['comment_text_cleaned'],data['label'], test_size=0.4, random_state=42)\n",
    "\n",
    "# Chia tập temp thành tập test và validation\n",
    "X_test, X_val, y_test, y_val = train_test_split(X_temp, y_temp, test_size=0.5, random_state=42)"
   ]
  },
  {
   "cell_type": "code",
   "execution_count": 28,
   "metadata": {},
   "outputs": [],
   "source": [
    "vectorizer = CountVectorizer()\n",
    "X_train_vec = vectorizer.fit_transform(X_train)\n",
    "X_test_vec = vectorizer.transform(X_test)\n",
    "X_val_vec = vectorizer.transform(X_val)"
   ]
  },
  {
   "cell_type": "code",
   "execution_count": 29,
   "metadata": {},
   "outputs": [
    {
     "name": "stdout",
     "output_type": "stream",
     "text": [
      "Độ chính xác trên tập test: 0.72\n",
      "              precision    recall  f1-score   support\n",
      "\n",
      "          -1       0.69      0.51      0.59       144\n",
      "           0       0.73      0.84      0.78       296\n",
      "           1       0.69      0.65      0.67       102\n",
      "\n",
      "    accuracy                           0.72       542\n",
      "   macro avg       0.71      0.67      0.68       542\n",
      "weighted avg       0.71      0.72      0.71       542\n",
      "\n",
      "Độ chính xác trên tập validation: 0.71\n",
      "Báo cáo phân loại trên tập validation:\n",
      "              precision    recall  f1-score   support\n",
      "\n",
      "          -1       0.63      0.48      0.54       134\n",
      "           0       0.72      0.84      0.78       299\n",
      "           1       0.80      0.65      0.72       109\n",
      "\n",
      "    accuracy                           0.71       542\n",
      "   macro avg       0.71      0.66      0.68       542\n",
      "weighted avg       0.71      0.71      0.71       542\n",
      "\n"
     ]
    }
   ],
   "source": [
    "model = LogisticRegression()\n",
    "model.fit(X_train_vec, y_train)\n",
    "y_test_pred = model.predict(X_test_vec)\n",
    "test_accuracy = accuracy_score(y_test, y_test_pred)\n",
    "test_class_report = classification_report(y_test, y_test_pred)\n",
    "\n",
    "# In độ chính xác và ma trận nhầm lẫn trên tập test\n",
    "print(f\"Độ chính xác trên tập test: {test_accuracy:.2f}\")\n",
    "print(test_class_report)\n",
    "\n",
    "# Bước 5: Đánh giá mô hình trên tập validation\n",
    "y_val_pred = model.predict(X_val_vec)\n",
    "val_accuracy = accuracy_score(y_val, y_val_pred)\n",
    "val_class_report = classification_report(y_val, y_val_pred)\n",
    "\n",
    "# In độ chính xác và ma trận nhầm lẫn trên tập validation\n",
    "print(f\"Độ chính xác trên tập validation: {val_accuracy:.2f}\")\n",
    "print(\"Báo cáo phân loại trên tập validation:\")\n",
    "print(val_class_report)"
   ]
  },
  {
   "cell_type": "code",
   "execution_count": 30,
   "metadata": {},
   "outputs": [
    {
     "name": "stdout",
     "output_type": "stream",
     "text": [
      "Độ chính xác trên tập test: 0.60\n",
      "              precision    recall  f1-score   support\n",
      "\n",
      "          -1       0.52      0.47      0.49       144\n",
      "           0       0.67      0.68      0.67       296\n",
      "           1       0.51      0.57      0.54       102\n",
      "\n",
      "    accuracy                           0.60       542\n",
      "   macro avg       0.57      0.57      0.57       542\n",
      "weighted avg       0.60      0.60      0.60       542\n",
      "\n",
      "Độ chính xác trên tập validation: 0.61\n",
      "Báo cáo phân loại trên tập validation:\n",
      "              precision    recall  f1-score   support\n",
      "\n",
      "          -1       0.46      0.43      0.44       134\n",
      "           0       0.67      0.70      0.68       299\n",
      "           1       0.63      0.59      0.61       109\n",
      "\n",
      "    accuracy                           0.61       542\n",
      "   macro avg       0.58      0.57      0.58       542\n",
      "weighted avg       0.61      0.61      0.61       542\n",
      "\n"
     ]
    }
   ],
   "source": [
    "model = DecisionTreeClassifier(random_state=42)\n",
    "model.fit(X_train_vec, y_train)\n",
    "y_test_pred = model.predict(X_test_vec)\n",
    "test_accuracy = accuracy_score(y_test, y_test_pred)\n",
    "test_class_report = classification_report(y_test, y_test_pred)\n",
    "\n",
    "# In độ chính xác và ma trận nhầm lẫn trên tập test\n",
    "print(f\"Độ chính xác trên tập test: {test_accuracy:.2f}\")\n",
    "print(test_class_report)\n",
    "\n",
    "# Bước 5: Đánh giá mô hình trên tập validation\n",
    "y_val_pred = model.predict(X_val_vec)\n",
    "val_accuracy = accuracy_score(y_val, y_val_pred)\n",
    "val_class_report = classification_report(y_val, y_val_pred)\n",
    "\n",
    "# In độ chính xác và ma trận nhầm lẫn trên tập validation\n",
    "print(f\"Độ chính xác trên tập validation: {val_accuracy:.2f}\")\n",
    "print(\"Báo cáo phân loại trên tập validation:\")\n",
    "print(val_class_report)"
   ]
  },
  {
   "cell_type": "code",
   "execution_count": 7,
   "metadata": {},
   "outputs": [],
   "source": [
    "from sklearn.model_selection import train_test_split\n",
    "\n",
    "# X là features, y là labels\n",
    "X_train, X_temp, y_train, y_temp  = train_test_split(data['comment_text_cleaned'],data['label'], test_size=0.4, random_state=42)\n",
    "\n",
    "# Chia tập temp thành tập test và validation\n",
    "X_test, X_val, y_test, y_val = train_test_split(X_temp, y_temp, test_size=0.5, random_state=42)"
   ]
  },
  {
   "cell_type": "code",
   "execution_count": 8,
   "metadata": {},
   "outputs": [],
   "source": [
    "from sklearn.model_selection import train_test_split,GridSearchCV\n",
    "from sklearn.feature_extraction.text import CountVectorizer\n",
    "from sklearn.tree import DecisionTreeClassifier\n",
    "from sklearn.metrics import accuracy_score,confusion_matrix, classification_report"
   ]
  },
  {
   "cell_type": "code",
   "execution_count": 9,
   "metadata": {},
   "outputs": [],
   "source": [
    "vectorizer = CountVectorizer()\n",
    "X_train_vec = vectorizer.fit_transform(X_train)\n",
    "X_test_vec = vectorizer.transform(X_test)\n",
    "X_val_vec = vectorizer.transform(X_val)"
   ]
  },
  {
   "cell_type": "code",
   "execution_count": 10,
   "metadata": {},
   "outputs": [
    {
     "data": {
      "text/html": [
       "<style>#sk-container-id-1 {color: black;}#sk-container-id-1 pre{padding: 0;}#sk-container-id-1 div.sk-toggleable {background-color: white;}#sk-container-id-1 label.sk-toggleable__label {cursor: pointer;display: block;width: 100%;margin-bottom: 0;padding: 0.3em;box-sizing: border-box;text-align: center;}#sk-container-id-1 label.sk-toggleable__label-arrow:before {content: \"▸\";float: left;margin-right: 0.25em;color: #696969;}#sk-container-id-1 label.sk-toggleable__label-arrow:hover:before {color: black;}#sk-container-id-1 div.sk-estimator:hover label.sk-toggleable__label-arrow:before {color: black;}#sk-container-id-1 div.sk-toggleable__content {max-height: 0;max-width: 0;overflow: hidden;text-align: left;background-color: #f0f8ff;}#sk-container-id-1 div.sk-toggleable__content pre {margin: 0.2em;color: black;border-radius: 0.25em;background-color: #f0f8ff;}#sk-container-id-1 input.sk-toggleable__control:checked~div.sk-toggleable__content {max-height: 200px;max-width: 100%;overflow: auto;}#sk-container-id-1 input.sk-toggleable__control:checked~label.sk-toggleable__label-arrow:before {content: \"▾\";}#sk-container-id-1 div.sk-estimator input.sk-toggleable__control:checked~label.sk-toggleable__label {background-color: #d4ebff;}#sk-container-id-1 div.sk-label input.sk-toggleable__control:checked~label.sk-toggleable__label {background-color: #d4ebff;}#sk-container-id-1 input.sk-hidden--visually {border: 0;clip: rect(1px 1px 1px 1px);clip: rect(1px, 1px, 1px, 1px);height: 1px;margin: -1px;overflow: hidden;padding: 0;position: absolute;width: 1px;}#sk-container-id-1 div.sk-estimator {font-family: monospace;background-color: #f0f8ff;border: 1px dotted black;border-radius: 0.25em;box-sizing: border-box;margin-bottom: 0.5em;}#sk-container-id-1 div.sk-estimator:hover {background-color: #d4ebff;}#sk-container-id-1 div.sk-parallel-item::after {content: \"\";width: 100%;border-bottom: 1px solid gray;flex-grow: 1;}#sk-container-id-1 div.sk-label:hover label.sk-toggleable__label {background-color: #d4ebff;}#sk-container-id-1 div.sk-serial::before {content: \"\";position: absolute;border-left: 1px solid gray;box-sizing: border-box;top: 0;bottom: 0;left: 50%;z-index: 0;}#sk-container-id-1 div.sk-serial {display: flex;flex-direction: column;align-items: center;background-color: white;padding-right: 0.2em;padding-left: 0.2em;position: relative;}#sk-container-id-1 div.sk-item {position: relative;z-index: 1;}#sk-container-id-1 div.sk-parallel {display: flex;align-items: stretch;justify-content: center;background-color: white;position: relative;}#sk-container-id-1 div.sk-item::before, #sk-container-id-1 div.sk-parallel-item::before {content: \"\";position: absolute;border-left: 1px solid gray;box-sizing: border-box;top: 0;bottom: 0;left: 50%;z-index: -1;}#sk-container-id-1 div.sk-parallel-item {display: flex;flex-direction: column;z-index: 1;position: relative;background-color: white;}#sk-container-id-1 div.sk-parallel-item:first-child::after {align-self: flex-end;width: 50%;}#sk-container-id-1 div.sk-parallel-item:last-child::after {align-self: flex-start;width: 50%;}#sk-container-id-1 div.sk-parallel-item:only-child::after {width: 0;}#sk-container-id-1 div.sk-dashed-wrapped {border: 1px dashed gray;margin: 0 0.4em 0.5em 0.4em;box-sizing: border-box;padding-bottom: 0.4em;background-color: white;}#sk-container-id-1 div.sk-label label {font-family: monospace;font-weight: bold;display: inline-block;line-height: 1.2em;}#sk-container-id-1 div.sk-label-container {text-align: center;}#sk-container-id-1 div.sk-container {/* jupyter's `normalize.less` sets `[hidden] { display: none; }` but bootstrap.min.css set `[hidden] { display: none !important; }` so we also need the `!important` here to be able to override the default hidden behavior on the sphinx rendered scikit-learn.org. See: https://github.com/scikit-learn/scikit-learn/issues/21755 */display: inline-block !important;position: relative;}#sk-container-id-1 div.sk-text-repr-fallback {display: none;}</style><div id=\"sk-container-id-1\" class=\"sk-top-container\"><div class=\"sk-text-repr-fallback\"><pre>DecisionTreeClassifier(random_state=42)</pre><b>In a Jupyter environment, please rerun this cell to show the HTML representation or trust the notebook. <br />On GitHub, the HTML representation is unable to render, please try loading this page with nbviewer.org.</b></div><div class=\"sk-container\" hidden><div class=\"sk-item\"><div class=\"sk-estimator sk-toggleable\"><input class=\"sk-toggleable__control sk-hidden--visually\" id=\"sk-estimator-id-1\" type=\"checkbox\" checked><label for=\"sk-estimator-id-1\" class=\"sk-toggleable__label sk-toggleable__label-arrow\">DecisionTreeClassifier</label><div class=\"sk-toggleable__content\"><pre>DecisionTreeClassifier(random_state=42)</pre></div></div></div></div></div>"
      ],
      "text/plain": [
       "DecisionTreeClassifier(random_state=42)"
      ]
     },
     "execution_count": 10,
     "metadata": {},
     "output_type": "execute_result"
    }
   ],
   "source": [
    "model = DecisionTreeClassifier(random_state=42)\n",
    "model.fit(X_train_vec, y_train)\n"
   ]
  },
  {
   "cell_type": "code",
   "execution_count": 11,
   "metadata": {},
   "outputs": [
    {
     "name": "stdout",
     "output_type": "stream",
     "text": [
      "Độ chính xác trên tập test: 0.60\n",
      "              precision    recall  f1-score   support\n",
      "\n",
      "          -1       0.52      0.45      0.48       144\n",
      "           0       0.66      0.68      0.67       296\n",
      "           1       0.50      0.55      0.52       102\n",
      "\n",
      "    accuracy                           0.60       542\n",
      "   macro avg       0.56      0.56      0.56       542\n",
      "weighted avg       0.59      0.60      0.59       542\n",
      "\n",
      "Độ chính xác trên tập validation: 0.60\n",
      "Báo cáo phân loại trên tập validation:\n",
      "              precision    recall  f1-score   support\n",
      "\n",
      "          -1       0.46      0.43      0.44       134\n",
      "           0       0.65      0.70      0.68       299\n",
      "           1       0.62      0.52      0.57       109\n",
      "\n",
      "    accuracy                           0.60       542\n",
      "   macro avg       0.58      0.55      0.56       542\n",
      "weighted avg       0.60      0.60      0.60       542\n",
      "\n"
     ]
    }
   ],
   "source": [
    "y_test_pred = model.predict(X_test_vec)\n",
    "test_accuracy = accuracy_score(y_test, y_test_pred)\n",
    "test_class_report = classification_report(y_test, y_test_pred)\n",
    "\n",
    "# In độ chính xác và ma trận nhầm lẫn trên tập test\n",
    "print(f\"Độ chính xác trên tập test: {test_accuracy:.2f}\")\n",
    "print(test_class_report)\n",
    "\n",
    "# Bước 5: Đánh giá mô hình trên tập validation\n",
    "y_val_pred = model.predict(X_val_vec)\n",
    "val_accuracy = accuracy_score(y_val, y_val_pred)\n",
    "val_class_report = classification_report(y_val, y_val_pred)\n",
    "\n",
    "# In độ chính xác và ma trận nhầm lẫn trên tập validation\n",
    "print(f\"Độ chính xác trên tập validation: {val_accuracy:.2f}\")\n",
    "print(\"Báo cáo phân loại trên tập validation:\")\n",
    "print(val_class_report)"
   ]
  },
  {
   "cell_type": "code",
   "execution_count": 12,
   "metadata": {},
   "outputs": [
    {
     "name": "stdout",
     "output_type": "stream",
     "text": [
      "Tham số tốt nhất: {'criterion': 'gini', 'max_depth': 10, 'min_samples_leaf': 4, 'min_samples_split': 10}\n",
      "Độ chính xác trên tập test: 0.61\n",
      "Báo cáo phân loại trên tập test:\n",
      "              precision    recall  f1-score   support\n",
      "\n",
      "          -1       0.69      0.20      0.31       144\n",
      "           0       0.60      0.89      0.72       296\n",
      "           1       0.55      0.35      0.43       102\n",
      "\n",
      "    accuracy                           0.61       542\n",
      "   macro avg       0.62      0.48      0.49       542\n",
      "weighted avg       0.62      0.61      0.56       542\n",
      "\n",
      "Độ chính xác trên tập validation: 0.59\n",
      "Báo cáo phân loại trên tập validation:\n",
      "              precision    recall  f1-score   support\n",
      "\n",
      "          -1       0.51      0.19      0.27       134\n",
      "           0       0.60      0.87      0.71       299\n",
      "           1       0.62      0.33      0.43       109\n",
      "\n",
      "    accuracy                           0.59       542\n",
      "   macro avg       0.58      0.46      0.47       542\n",
      "weighted avg       0.58      0.59      0.55       542\n",
      "\n"
     ]
    }
   ],
   "source": [
    "param_grid = {\n",
    "    'criterion': ['gini', 'entropy'],  # Tiêu chuẩn để đo độ tinh khiết của nút\n",
    "    'max_depth': [None, 10, 20, 30, 40, 50],  # Độ sâu tối đa của cây\n",
    "    'min_samples_split': [2, 5, 10],  # Số lượng mẫu tối thiểu cần thiết để chia một nút\n",
    "    'min_samples_leaf': [1, 2, 4]  # Số lượng mẫu tối thiểu cần thiết để ở lại một nút lá\n",
    "}\n",
    "\n",
    "# Sử dụng GridSearchCV để tìm kiếm tham số tốt nhất\n",
    "grid_search = GridSearchCV(model, param_grid, cv=5, scoring='accuracy', n_jobs=-1)\n",
    "grid_search.fit(X_train_vec, y_train)\n",
    "\n",
    "# In tham số tốt nhất\n",
    "print(\"Tham số tốt nhất:\", grid_search.best_params_)\n",
    "\n",
    "# Sử dụng mô hình tốt nhất để dự đoán và đánh giá trên tập test\n",
    "best_model = grid_search.best_estimator_\n",
    "y_test_pred = best_model.predict(X_test_vec)\n",
    "test_accuracy = accuracy_score(y_test, y_test_pred)\n",
    "test_class_report = classification_report(y_test, y_test_pred)\n",
    "\n",
    "# In độ chính xác và ma trận nhầm lẫn trên tập test\n",
    "print(f\"Độ chính xác trên tập test: {test_accuracy:.2f}\")\n",
    "print(\"Báo cáo phân loại trên tập test:\")\n",
    "print(test_class_report)\n",
    "\n",
    "# Đánh giá mô hình trên tập validation\n",
    "y_val_pred = best_model.predict(X_val_vec)\n",
    "val_accuracy = accuracy_score(y_val, y_val_pred)\n",
    "val_class_report = classification_report(y_val, y_val_pred)\n",
    "\n",
    "# In độ chính xác và ma trận nhầm lẫn trên tập validation\n",
    "print(f\"Độ chính xác trên tập validation: {val_accuracy:.2f}\")\n",
    "print(\"Báo cáo phân loại trên tập validation:\")\n",
    "print(val_class_report)"
   ]
  },
  {
   "cell_type": "code",
   "execution_count": 31,
   "metadata": {},
   "outputs": [
    {
     "name": "stdout",
     "output_type": "stream",
     "text": [
      "Accuracy: 0.5608856088560885\n"
     ]
    }
   ],
   "source": [
    "\n",
    "# Tạo vector đặc trưng từ sentiment words\n",
    "sentiment_words = [\"hay\",\"hát hay\",\"diễn hay\",\"thích\",\"mê\",\"ghét\",\"trà xanh\",\"drama\",\"thằng chó\",\"tệ\"]\n",
    "vectorizer = CountVectorizer(vocabulary=sentiment_words)\n",
    "\n",
    "\n",
    "# Tạo pipeline với CountVectorizer và Logistic Regression\n",
    "pipeline = Pipeline([\n",
    "    ('vect', vectorizer),\n",
    "    ('clf', LogisticRegression())\n",
    "])\n",
    "\n",
    "# Huấn luyện mô hình\n",
    "pipeline.fit(X_train, y_train)\n",
    "\n",
    "# Dự đoán và đánh giá mô hình\n",
    "y_pred = pipeline.predict(X_test)\n",
    "accuracy = accuracy_score(y_test, y_pred)\n",
    "print(\"Accuracy:\", accuracy)"
   ]
  },
  {
   "cell_type": "code",
   "execution_count": 13,
   "metadata": {},
   "outputs": [],
   "source": [
    "from sklearn.linear_model import LogisticRegression"
   ]
  },
  {
   "cell_type": "code",
   "execution_count": 14,
   "metadata": {},
   "outputs": [
    {
     "name": "stdout",
     "output_type": "stream",
     "text": [
      "Độ chính xác trên tập test: 0.71\n",
      "              precision    recall  f1-score   support\n",
      "\n",
      "          -1       0.68      0.51      0.58       144\n",
      "           0       0.73      0.84      0.78       296\n",
      "           1       0.71      0.64      0.67       102\n",
      "\n",
      "    accuracy                           0.71       542\n",
      "   macro avg       0.71      0.66      0.68       542\n",
      "weighted avg       0.71      0.71      0.71       542\n",
      "\n",
      "Độ chính xác trên tập validation: 0.72\n",
      "Báo cáo phân loại trên tập validation:\n",
      "              precision    recall  f1-score   support\n",
      "\n",
      "          -1       0.65      0.48      0.55       134\n",
      "           0       0.72      0.85      0.78       299\n",
      "           1       0.80      0.64      0.71       109\n",
      "\n",
      "    accuracy                           0.72       542\n",
      "   macro avg       0.72      0.66      0.68       542\n",
      "weighted avg       0.72      0.72      0.71       542\n",
      "\n"
     ]
    }
   ],
   "source": [
    "model = LogisticRegression()\n",
    "model.fit(X_train_vec, y_train)\n",
    "y_test_pred = model.predict(X_test_vec)\n",
    "test_accuracy = accuracy_score(y_test, y_test_pred)\n",
    "test_class_report = classification_report(y_test, y_test_pred)\n",
    "\n",
    "# In độ chính xác và ma trận nhầm lẫn trên tập test\n",
    "print(f\"Độ chính xác trên tập test: {test_accuracy:.2f}\")\n",
    "print(test_class_report)\n",
    "\n",
    "# Bước 5: Đánh giá mô hình trên tập validation\n",
    "y_val_pred = model.predict(X_val_vec)\n",
    "val_accuracy = accuracy_score(y_val, y_val_pred)\n",
    "val_class_report = classification_report(y_val, y_val_pred)\n",
    "\n",
    "# In độ chính xác và ma trận nhầm lẫn trên tập validation\n",
    "print(f\"Độ chính xác trên tập validation: {val_accuracy:.2f}\")\n",
    "print(\"Báo cáo phân loại trên tập validation:\")\n",
    "print(val_class_report)"
   ]
  },
  {
   "cell_type": "code",
   "execution_count": 15,
   "metadata": {},
   "outputs": [
    {
     "name": "stdout",
     "output_type": "stream",
     "text": [
      "Tham số tốt nhất: {'C': 0.1, 'max_iter': 300, 'solver': 'saga'}\n",
      "Độ chính xác trên tập test: 0.70\n",
      "Báo cáo phân loại trên tập test:\n",
      "              precision    recall  f1-score   support\n",
      "\n",
      "          -1       0.69      0.44      0.54       144\n",
      "           0       0.70      0.87      0.78       296\n",
      "           1       0.73      0.60      0.66       102\n",
      "\n",
      "    accuracy                           0.70       542\n",
      "   macro avg       0.71      0.64      0.66       542\n",
      "weighted avg       0.71      0.70      0.69       542\n",
      "\n",
      "Độ chính xác trên tập validation: 0.71\n",
      "Báo cáo phân loại trên tập validation:\n",
      "              precision    recall  f1-score   support\n",
      "\n",
      "          -1       0.62      0.42      0.50       134\n",
      "           0       0.71      0.85      0.78       299\n",
      "           1       0.80      0.68      0.73       109\n",
      "\n",
      "    accuracy                           0.71       542\n",
      "   macro avg       0.71      0.65      0.67       542\n",
      "weighted avg       0.71      0.71      0.70       542\n",
      "\n"
     ]
    },
    {
     "name": "stderr",
     "output_type": "stream",
     "text": [
      "d:\\Setup\\miniconda\\envs\\Nyh_Py\\Lib\\site-packages\\sklearn\\linear_model\\_sag.py:350: ConvergenceWarning: The max_iter was reached which means the coef_ did not converge\n",
      "  warnings.warn(\n"
     ]
    }
   ],
   "source": [
    "param_grid = {\n",
    "    'C': [0.01, 0.1, 1, 10, 100],  # Hệ số điều chỉnh cho regularization\n",
    "    'solver': ['liblinear', 'saga'],  # Thuật toán để tối ưu hóa\n",
    "    'max_iter': [200, 300,400]  # Số lần lặp tối đa\n",
    "}\n",
    "\n",
    "# Sử dụng GridSearchCV để tìm kiếm tham số tốt nhất\n",
    "grid_search = GridSearchCV(model, param_grid, cv=5, scoring='accuracy', n_jobs=-1)\n",
    "grid_search.fit(X_train_vec, y_train)\n",
    "\n",
    "# In tham số tốt nhất\n",
    "print(\"Tham số tốt nhất:\", grid_search.best_params_)\n",
    "\n",
    "# Sử dụng mô hình tốt nhất để dự đoán và đánh giá trên tập test\n",
    "best_model = grid_search.best_estimator_\n",
    "y_test_pred = best_model.predict(X_test_vec)\n",
    "test_accuracy = accuracy_score(y_test, y_test_pred)\n",
    "test_class_report = classification_report(y_test, y_test_pred)\n",
    "\n",
    "# In độ chính xác và ma trận nhầm lẫn trên tập test\n",
    "print(f\"Độ chính xác trên tập test: {test_accuracy:.2f}\")\n",
    "print(\"Báo cáo phân loại trên tập test:\")\n",
    "print(test_class_report)\n",
    "\n",
    "# Đánh giá mô hình trên tập validation\n",
    "y_val_pred = best_model.predict(X_val_vec)\n",
    "val_accuracy = accuracy_score(y_val, y_val_pred)\n",
    "val_class_report = classification_report(y_val, y_val_pred)\n",
    "\n",
    "# In độ chính xác và ma trận nhầm lẫn trên tập validation\n",
    "print(f\"Độ chính xác trên tập validation: {val_accuracy:.2f}\")\n",
    "print(\"Báo cáo phân loại trên tập validation:\")\n",
    "print(val_class_report)"
   ]
  },
  {
   "cell_type": "code",
   "execution_count": 16,
   "metadata": {},
   "outputs": [
    {
     "name": "stdout",
     "output_type": "stream",
     "text": [
      "Accuracy: 0.67\n",
      "Confusion Matrix:\n",
      "[[ 45  95   4]\n",
      " [  9 270  17]\n",
      " [  2  50  50]]\n",
      "Classification Report:\n",
      "              precision    recall  f1-score   support\n",
      "\n",
      "          -1       0.80      0.31      0.45       144\n",
      "           0       0.65      0.91      0.76       296\n",
      "           1       0.70      0.49      0.58       102\n",
      "\n",
      "    accuracy                           0.67       542\n",
      "   macro avg       0.72      0.57      0.60       542\n",
      "weighted avg       0.70      0.67      0.64       542\n",
      "\n"
     ]
    }
   ],
   "source": [
    "from sklearn.ensemble import RandomForestClassifier\n",
    "rf_classifier = RandomForestClassifier(n_estimators=100, random_state=42)\n",
    "rf_classifier.fit(X_train_vec, y_train)\n",
    "\n",
    "# Dự đoán nhãn cho tập test\n",
    "y_pred = rf_classifier.predict(X_test_vec)\n",
    "\n",
    "# Đánh giá hiệu suất của mô hình\n",
    "accuracy = accuracy_score(y_test, y_pred)\n",
    "conf_matrix = confusion_matrix(y_test, y_pred)\n",
    "class_report = classification_report(y_test, y_pred)\n",
    "\n",
    "print(f\"Accuracy: {accuracy:.2f}\")\n",
    "print(\"Confusion Matrix:\")\n",
    "print(conf_matrix)\n",
    "print(\"Classification Report:\")\n",
    "print(class_report)"
   ]
  },
  {
   "cell_type": "code",
   "execution_count": 17,
   "metadata": {},
   "outputs": [
    {
     "name": "stdout",
     "output_type": "stream",
     "text": [
      "Accuracy: 0.67\n",
      "Confusion Matrix:\n",
      "[[ 42 100   2]\n",
      " [ 11 275  10]\n",
      " [  1  53  48]]\n",
      "Classification Report:\n",
      "              precision    recall  f1-score   support\n",
      "\n",
      "          -1       0.78      0.29      0.42       144\n",
      "           0       0.64      0.93      0.76       296\n",
      "           1       0.80      0.47      0.59       102\n",
      "\n",
      "    accuracy                           0.67       542\n",
      "   macro avg       0.74      0.56      0.59       542\n",
      "weighted avg       0.71      0.67      0.64       542\n",
      "\n"
     ]
    }
   ],
   "source": [
    "from sklearn.feature_extraction.text import TfidfVectorizer\n",
    "tfidf_vectorizer = TfidfVectorizer(max_features=5000)\n",
    "X_train_tfidf = tfidf_vectorizer.fit_transform(X_train)\n",
    "X_test_tfidf = tfidf_vectorizer.transform(X_test)\n",
    "\n",
    "# Khởi tạo và huấn luyện mô hình Random Forest\n",
    "rf_classifier = RandomForestClassifier(n_estimators=100, random_state=42)\n",
    "rf_classifier.fit(X_train_tfidf, y_train)\n",
    "\n",
    "# Dự đoán nhãn cho tập test\n",
    "y_pred = rf_classifier.predict(X_test_tfidf)\n",
    "\n",
    "# Đánh giá hiệu suất của mô hình\n",
    "accuracy = accuracy_score(y_test, y_pred)\n",
    "conf_matrix = confusion_matrix(y_test, y_pred)\n",
    "class_report = classification_report(y_test, y_pred)\n",
    "\n",
    "print(f\"Accuracy: {accuracy:.2f}\")\n",
    "print(\"Confusion Matrix:\")\n",
    "print(conf_matrix)\n",
    "print(\"Classification Report:\")\n",
    "print(class_report)"
   ]
  },
  {
   "cell_type": "code",
   "execution_count": 18,
   "metadata": {},
   "outputs": [
    {
     "name": "stdout",
     "output_type": "stream",
     "text": [
      "Tham số tốt nhất: {'max_depth': None, 'min_samples_leaf': 1, 'min_samples_split': 10, 'n_estimators': 200}\n",
      "Accuracy: 0.68\n",
      "Confusion Matrix:\n",
      "[[ 41 101   2]\n",
      " [  8 280   8]\n",
      " [  1  53  48]]\n",
      "Classification Report:\n",
      "              precision    recall  f1-score   support\n",
      "\n",
      "          -1       0.82      0.28      0.42       144\n",
      "           0       0.65      0.95      0.77       296\n",
      "           1       0.83      0.47      0.60       102\n",
      "\n",
      "    accuracy                           0.68       542\n",
      "   macro avg       0.76      0.57      0.60       542\n",
      "weighted avg       0.73      0.68      0.64       542\n",
      "\n"
     ]
    }
   ],
   "source": [
    "param_grid = {\n",
    "    'n_estimators': [100, 200, 300],\n",
    "    'max_depth': [None, 10, 20, 30],\n",
    "    'min_samples_split': [2, 5, 10],\n",
    "    'min_samples_leaf': [1, 2, 4]\n",
    "}\n",
    "rf_classifier = RandomForestClassifier(random_state=42)\n",
    "\n",
    "# Sử dụng GridSearchCV để tìm kiếm tham số tốt nhất\n",
    "grid_search = GridSearchCV(rf_classifier, param_grid, cv=5, scoring='accuracy', n_jobs=-1)\n",
    "grid_search.fit(X_train_tfidf, y_train)\n",
    "\n",
    "# In ra tham số tốt nhất\n",
    "print(\"Tham số tốt nhất:\", grid_search.best_params_)\n",
    "\n",
    "# Sử dụng mô hình tốt nhất để dự đoán và đánh giá trên tập test\n",
    "best_model = grid_search.best_estimator_\n",
    "y_pred = best_model.predict(X_test_tfidf)\n",
    "\n",
    "# Đánh giá hiệu suất của mô hình\n",
    "accuracy = accuracy_score(y_test, y_pred)\n",
    "conf_matrix = confusion_matrix(y_test, y_pred)\n",
    "class_report = classification_report(y_test, y_pred)\n",
    "\n",
    "print(f\"Accuracy: {accuracy:.2f}\")\n",
    "print(\"Confusion Matrix:\")\n",
    "print(conf_matrix)\n",
    "print(\"Classification Report:\")\n",
    "print(class_report)"
   ]
  },
  {
   "cell_type": "code",
   "execution_count": 20,
   "metadata": {},
   "outputs": [
    {
     "name": "stdout",
     "output_type": "stream",
     "text": [
      "Accuracy: 0.72\n",
      "Confusion Matrix:\n",
      "[[ 69  72   3]\n",
      " [ 18 262  16]\n",
      " [  5  39  58]]\n",
      "Classification Report:\n",
      "              precision    recall  f1-score   support\n",
      "\n",
      "          -1       0.75      0.48      0.58       144\n",
      "           0       0.70      0.89      0.78       296\n",
      "           1       0.75      0.57      0.65       102\n",
      "\n",
      "    accuracy                           0.72       542\n",
      "   macro avg       0.74      0.64      0.67       542\n",
      "weighted avg       0.72      0.72      0.71       542\n",
      "\n"
     ]
    }
   ],
   "source": [
    "from sklearn.pipeline import Pipeline\n",
    "pipeline = Pipeline([\n",
    "    ('vect', CountVectorizer(ngram_range=(1, 2))),\n",
    "    ('clf', LogisticRegression())\n",
    "])\n",
    "\n",
    "# Huấn luyện mô hình\n",
    "pipeline.fit(X_train, y_train)\n",
    "\n",
    "# Dự đoán và đánh giá mô hình\n",
    "y_pred = pipeline.predict(X_test)\n",
    "accuracy = accuracy_score(y_test, y_pred)\n",
    "conf_matrix = confusion_matrix(y_test, y_pred)\n",
    "class_report = classification_report(y_test, y_pred)\n",
    "\n",
    "print(f\"Accuracy: {accuracy:.2f}\")\n",
    "print(\"Confusion Matrix:\")\n",
    "print(conf_matrix)\n",
    "print(\"Classification Report:\")\n",
    "print(class_report)"
   ]
  },
  {
   "cell_type": "code",
   "execution_count": 22,
   "metadata": {},
   "outputs": [
    {
     "name": "stdout",
     "output_type": "stream",
     "text": [
      "Accuracy: 0.63\n",
      "Confusion Matrix:\n",
      "[[ 22 122   0]\n",
      " [  4 283   9]\n",
      " [  0  64  38]]\n",
      "Classification Report:\n",
      "              precision    recall  f1-score   support\n",
      "\n",
      "          -1       0.85      0.15      0.26       144\n",
      "           0       0.60      0.96      0.74       296\n",
      "           1       0.81      0.37      0.51       102\n",
      "\n",
      "    accuracy                           0.63       542\n",
      "   macro avg       0.75      0.49      0.50       542\n",
      "weighted avg       0.71      0.63      0.57       542\n",
      "\n"
     ]
    }
   ],
   "source": [
    "from sklearn.pipeline import Pipeline\n",
    "pipeline = Pipeline([\n",
    "    ('vect', CountVectorizer(ngram_range=(2, 3))),\n",
    "    ('clf', LogisticRegression())\n",
    "])\n",
    "\n",
    "# Huấn luyện mô hình\n",
    "pipeline.fit(X_train, y_train)\n",
    "\n",
    "# Dự đoán và đánh giá mô hình\n",
    "y_pred = pipeline.predict(X_test)\n",
    "accuracy = accuracy_score(y_test, y_pred)\n",
    "conf_matrix = confusion_matrix(y_test, y_pred)\n",
    "class_report = classification_report(y_test, y_pred)\n",
    "\n",
    "print(f\"Accuracy: {accuracy:.2f}\")\n",
    "print(\"Confusion Matrix:\")\n",
    "print(conf_matrix)\n",
    "print(\"Classification Report:\")\n",
    "print(class_report)"
   ]
  },
  {
   "cell_type": "code",
   "execution_count": 46,
   "metadata": {},
   "outputs": [],
   "source": [
    "from sklearn.ensemble import BaggingClassifier,VotingClassifier\n",
    "from sklearn.svm import SVC\n",
    "from sklearn.naive_bayes import MultinomialNB"
   ]
  },
  {
   "cell_type": "code",
   "execution_count": 42,
   "metadata": {},
   "outputs": [
    {
     "name": "stdout",
     "output_type": "stream",
     "text": [
      "Accuracy: 0.7140221402214022\n",
      "              precision    recall  f1-score   support\n",
      "\n",
      "          -1       0.75      0.46      0.57       144\n",
      "           0       0.71      0.87      0.78       296\n",
      "           1       0.69      0.62      0.65       102\n",
      "\n",
      "    accuracy                           0.71       542\n",
      "   macro avg       0.72      0.65      0.67       542\n",
      "weighted avg       0.72      0.71      0.70       542\n",
      "\n"
     ]
    }
   ],
   "source": [
    "base_model = LogisticRegression()\n",
    "\n",
    "# Tạo BaggingClassifier với mô hình cơ sở là Logistic Regression\n",
    "bagging_model = BaggingClassifier(base_model, n_estimators=10, random_state=42)\n",
    "\n",
    "# Huấn luyện mô hình\n",
    "bagging_model.fit(X_train_vec, y_train)\n",
    "\n",
    "\n",
    "# Dự đoán và đánh giá mô hình\n",
    "y_pred = bagging_model.predict(X_test_vec)\n",
    "accuracy = accuracy_score(y_test, y_pred)\n",
    "class_report = classification_report(y_test, y_pred)\n",
    "print(\"Accuracy:\", accuracy)\n",
    "print(class_report)"
   ]
  },
  {
   "cell_type": "code",
   "execution_count": 52,
   "metadata": {},
   "outputs": [
    {
     "name": "stdout",
     "output_type": "stream",
     "text": [
      "Accuracy: 0.7214022140221402\n",
      "              precision    recall  f1-score   support\n",
      "\n",
      "          -1       0.72      0.50      0.59       144\n",
      "           0       0.72      0.87      0.79       296\n",
      "           1       0.74      0.61      0.67       102\n",
      "\n",
      "    accuracy                           0.72       542\n",
      "   macro avg       0.73      0.66      0.68       542\n",
      "weighted avg       0.72      0.72      0.71       542\n",
      "\n"
     ]
    }
   ],
   "source": [
    "base_models = [\n",
    "    ('lr', LogisticRegression()),\n",
    "    ('svm', SVC(kernel='linear', probability=True)),\n",
    "    ('nb', MultinomialNB())\n",
    "]\n",
    "ensemble = VotingClassifier(base_models)\n",
    "# Tạo BaggingClassifier với các mô hình cơ sở\n",
    "bagging_model = BaggingClassifier(ensemble, n_estimators=20, random_state=42)\n",
    "\n",
    "# Huấn luyện mô hình\n",
    "bagging_model.fit(X_train_vec, y_train)\n",
    "\n",
    "\n",
    "# Dự đoán và đánh giá mô hình\n",
    "y_pred = bagging_model.predict(X_test_vec)\n",
    "accuracy = accuracy_score(y_test, y_pred)\n",
    "class_report = classification_report(y_test, y_pred)\n",
    "print(\"Accuracy:\", accuracy)\n",
    "print(class_report)"
   ]
  },
  {
   "cell_type": "code",
   "execution_count": 53,
   "metadata": {},
   "outputs": [
    {
     "name": "stdout",
     "output_type": "stream",
     "text": [
      "Accuracy: 0.7214022140221402\n",
      "              precision    recall  f1-score   support\n",
      "\n",
      "          -1       0.70      0.50      0.58       144\n",
      "           0       0.72      0.86      0.79       296\n",
      "           1       0.74      0.62      0.67       102\n",
      "\n",
      "    accuracy                           0.72       542\n",
      "   macro avg       0.72      0.66      0.68       542\n",
      "weighted avg       0.72      0.72      0.71       542\n",
      "\n"
     ]
    }
   ],
   "source": [
    "base_models = [\n",
    "    ('lr', LogisticRegression()),\n",
    "    ('svm', SVC(kernel='linear', probability=True)),\n",
    "    ('nb', MultinomialNB())\n",
    "]\n",
    "ensemble = VotingClassifier(base_models)\n",
    "# Tạo BaggingClassifier với các mô hình cơ sở\n",
    "bagging_model = BaggingClassifier(ensemble, n_estimators=30\n",
    "                                  , random_state=42)\n",
    "\n",
    "# Huấn luyện mô hình\n",
    "bagging_model.fit(X_train_vec, y_train)\n",
    "\n",
    "\n",
    "# Dự đoán và đánh giá mô hình\n",
    "y_pred = bagging_model.predict(X_test_vec)\n",
    "accuracy = accuracy_score(y_test, y_pred)\n",
    "class_report = classification_report(y_test, y_pred)\n",
    "print(\"Accuracy:\", accuracy)\n",
    "print(class_report)"
   ]
  },
  {
   "cell_type": "code",
   "execution_count": 54,
   "metadata": {},
   "outputs": [
    {
     "name": "stdout",
     "output_type": "stream",
     "text": [
      "Accuracy: 0.7195571955719557\n",
      "              precision    recall  f1-score   support\n",
      "\n",
      "          -1       0.72      0.50      0.59       144\n",
      "           0       0.72      0.86      0.78       296\n",
      "           1       0.73      0.61      0.66       102\n",
      "\n",
      "    accuracy                           0.72       542\n",
      "   macro avg       0.72      0.66      0.68       542\n",
      "weighted avg       0.72      0.72      0.71       542\n",
      "\n"
     ]
    }
   ],
   "source": [
    "base_models = [\n",
    "    ('lr', LogisticRegression()),\n",
    "    ('svm', SVC(kernel='linear', probability=True)),\n",
    "    ('nb', MultinomialNB())\n",
    "]\n",
    "ensemble = VotingClassifier(base_models)\n",
    "# Tạo BaggingClassifier với các mô hình cơ sở\n",
    "bagging_model = BaggingClassifier(ensemble, n_estimators=25\n",
    "                                  , random_state=42)\n",
    "\n",
    "# Huấn luyện mô hình\n",
    "bagging_model.fit(X_train_vec, y_train)\n",
    "\n",
    "\n",
    "# Dự đoán và đánh giá mô hình\n",
    "y_pred = bagging_model.predict(X_test_vec)\n",
    "accuracy = accuracy_score(y_test, y_pred)\n",
    "class_report = classification_report(y_test, y_pred)\n",
    "print(\"Accuracy:\", accuracy)\n",
    "print(class_report)\n"
   ]
  },
  {
   "cell_type": "code",
   "execution_count": null,
   "metadata": {},
   "outputs": [],
   "source": []
  }
 ],
 "metadata": {
  "kernelspec": {
   "display_name": "Nyh_Py",
   "language": "python",
   "name": "python3"
  },
  "language_info": {
   "codemirror_mode": {
    "name": "ipython",
    "version": 3
   },
   "file_extension": ".py",
   "mimetype": "text/x-python",
   "name": "python",
   "nbconvert_exporter": "python",
   "pygments_lexer": "ipython3",
   "version": "3.12.0"
  }
 },
 "nbformat": 4,
 "nbformat_minor": 2
}
