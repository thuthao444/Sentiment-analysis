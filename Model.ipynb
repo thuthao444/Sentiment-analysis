{
 "cells": [
  {
   "cell_type": "code",
   "execution_count": 1,
   "metadata": {},
   "outputs": [],
   "source": [
    "import pandas as pd\n",
    "import numpy as np\n",
    "import re"
   ]
  },
  {
   "cell_type": "code",
   "execution_count": 2,
   "metadata": {},
   "outputs": [],
   "source": [
    "data = pd.read_csv(\"Data/Data.csv\")"
   ]
  },
  {
   "cell_type": "markdown",
   "metadata": {},
   "source": [
    "# PRE-PROCESSING"
   ]
  },
  {
   "cell_type": "code",
   "execution_count": 3,
   "metadata": {},
   "outputs": [],
   "source": [
    "# Loại bỏ các ký tự đặc biệt\n",
    "def clean_text(text):\n",
    "    text = re.sub(r'[^\\w\\s]', '', text)\n",
    "    return text\n",
    "\n",
    "data['comment_text_cleaned'] = data['comment_text'].apply(clean_text)"
   ]
  },
  {
   "cell_type": "code",
   "execution_count": 4,
   "metadata": {},
   "outputs": [],
   "source": [
    "teencode = {\n",
    "    \"không\": [\"hong\", \"hok\", \"khom\", \"khum\", \"k\", \"ko\", \"khong\", \"hem\", \"no\", \"hơm\", \"hôn\",\"hk\", \"hông\"],\n",
    "    \"biết\": [\"bít\", \"biếc\", \"bt\"],\n",
    "    \"rồi\": [\"ròi\", \"gòi\", \"rùi\", \"rui\", \"roi\", \"goy\", \"goi\", \"gui\", \"gùi\", \"ời\", \"oy\", \"òy\", \"roài\", \"ùi\",\"r\"],\n",
    "    \"tôi\": [\"teo\", \"toy\", \"tui\", \"t\"],\n",
    "    \"em\": [\"iem\", \"e\"],\n",
    "    \"yêu\": [\"iu\", \"ieo\"],\n",
    "    \"ôi\" : [\"ưi\", \"ui\"],\n",
    "    \"ừm\" :[\"um\", \"ờm\"],\n",
    "    \"ừ\" : [\"ò\", \"uk\", \"ầu\", \"ờ\"],\n",
    "    \"chồng\" : [\"ck\", \"chòng\"],\n",
    "    \"vợ\": [\"vk\", \"zợ\", \"zk\"],\n",
    "    \"ông\" : [\"ong\", \"ô\"],\n",
    "    \"anh\": [\"a\"],\n",
    "    \"bé\" :[\"pé\"],\n",
    "    \"chị\" : [\"chụy\", \"cj\", \"cỵ\", \"cị\"],\n",
    "    \"giờ\" :[\"h\"],\n",
    "    \"ch\":[\"ck\"],\n",
    "    \"ph\":[\"f\"],\n",
    "    \"th\":[\"tk\"],\n",
    "    \"nh\":[\"nk\"],\n",
    "    \"gì\": [\"j\", \"giề\", \"rì\", \"zì\"],\n",
    "    \"muốn\" : [\"mún\"],\n",
    "    \"học\" : [\"hc\"],\n",
    "    \"bạn\" :[\"bẹng\", \"bạng\", \"bn\", \"pạn\"],\n",
    "    \"mày\" :[\"m\", \"mèy\", \"mài\"],\n",
    "    \"đang\" : [\"aq\", \"đaq\", \"đag\", \"dang\", \"dag\"],\n",
    "    \"đường\": [\"đg\"],\n",
    "    \"làm\":['nàm', \"lèm\"],\n",
    "    \"cao\":['kao'],\n",
    "    'ch':['tr'],\n",
    "    'tr':['ch'],\n",
    "    'vậy':['zạy', 'zay', 'vại', 'dọ', 'dạ', 'zị', 'zậy', 'zọ', \"v\", 'z', 'dị'],\n",
    "    \"nội\":['nụi'],\n",
    "    \"quen\" :['wen'],\n",
    "    \"hoài\" : [\"quài\"],\n",
    "    \"ỉa\":['ẻ'],\n",
    "    \"hả\":['hỏ', 'hẻ', 'hở'],\n",
    "    \"bà\" :['pà'],\n",
    "    \"khùng\" :[\"khùm\", \"khùn\"],\n",
    "    \"điên\" :[\"đin\", \"điêng\"],\n",
    "    \"ngu\" :[\"nguk\"],\n",
    "    \"ngốc\" :[\"ngok\"],\n",
    "    \"được\" :[\"dc\", \"dk\", \"duoc\", \"đc\"],\n",
    "    \"trời\" : [\"chòi\", \"chời\", \"trùi\", \"tr\"],\n",
    "    \"cũng\" : [\"cũm\", \"cx\"],\n",
    "    \"nha\": [\"nhoa\", \"nho\", \"nhe\"],\n",
    "    \"diễn viên\" : [\"dv\"],\n",
    "    \"ca sĩ\" : [\"ca sỉ\", \"cs\"],\n",
    "    \"mọi người\" : [\"mọi ngừi\", \"mn\"],\n",
    "    \"thằng\" : [\"tk\",\"thg\"],\n",
    "    \"người\": [\"ngừi\", \"ng\"],\n",
    "    \"quá\": [\"qá\", \"wa\", \"quớ\"]\n",
    "}\n",
    "\n",
    "\n",
    "reverse_teencode = {teencode_word: full_word for full_word, teencode_list in teencode.items() for teencode_word in teencode_list}\n",
    "\n",
    "def replace_teencode(text):\n",
    "    words = text.split()\n",
    "    replaced_words = [reverse_teencode.get(word, word) for word in words]\n",
    "    return ' '.join(replaced_words)\n",
    "\n",
    "data['comment_text_cleaned'] = data['comment_text_cleaned'].apply(replace_teencode)\n"
   ]
  },
  {
   "cell_type": "code",
   "execution_count": 5,
   "metadata": {},
   "outputs": [],
   "source": [
    "data['comment_text_cleaned'] = data['comment_text_cleaned'].str.lower()"
   ]
  },
  {
   "cell_type": "code",
   "execution_count": 6,
   "metadata": {},
   "outputs": [],
   "source": [
    "# Loại bỏ các từ dừng (stop words)\n",
    "\n",
    "with open('Vietnamese_data/vietnamese-stop-words.txt', 'r', encoding='utf-8') as file:\n",
    "    stop_words = set(file.read())\n",
    "\n",
    "def remove_stopwords(text):\n",
    "    return ' '.join([word for word in text.split() if word not in stop_words])\n",
    "\n",
    "data['comment_text_cleaned'] = data['comment_text_cleaned'].apply(remove_stopwords)"
   ]
  },
  {
   "cell_type": "code",
   "execution_count": 7,
   "metadata": {},
   "outputs": [
    {
     "data": {
      "text/plain": [
       "'phân tích cứ như tích 1 đống phân trc đây thì giọng sáng hơn âm vực được tầm 3 quãng cơ mà hát thì đầy lưỡi phát âm bị bẹt không tròn còn giờ thì không sáng yếu được cái chữa được cái phát âm lỗi bảo là dở thì không phải nhưng kiểu chất giọng lạ lạ 1 chút kiểu lam trường chứ chả có vẹo gì mà phân tích về giọng của tún'"
      ]
     },
     "execution_count": 7,
     "metadata": {},
     "output_type": "execute_result"
    }
   ],
   "source": [
    "data['comment_text_cleaned'].iloc[2100] \n"
   ]
  },
  {
   "cell_type": "markdown",
   "metadata": {},
   "source": [
    "# MODEL"
   ]
  },
  {
   "cell_type": "code",
   "execution_count": 8,
   "metadata": {},
   "outputs": [],
   "source": [
    "from sklearn.model_selection import train_test_split\n",
    "\n",
    "\n",
    "X_train, X_temp, y_train, y_temp  = train_test_split(data['comment_text_cleaned'],data['label'], test_size=0.4, random_state=42)\n",
    "\n",
    "X_test, X_val, y_test, y_val = train_test_split(X_temp, y_temp, test_size=0.5, random_state=42)"
   ]
  },
  {
   "cell_type": "code",
   "execution_count": 9,
   "metadata": {},
   "outputs": [],
   "source": [
    "from sklearn.model_selection import train_test_split,GridSearchCV\n",
    "from sklearn.feature_extraction.text import CountVectorizer\n",
    "from sklearn.tree import DecisionTreeClassifier\n",
    "from sklearn.metrics import accuracy_score,confusion_matrix, classification_report\n",
    "vectorizer = CountVectorizer()\n",
    "X_train_vec = vectorizer.fit_transform(X_train)\n",
    "X_test_vec = vectorizer.transform(X_test)\n",
    "X_val_vec = vectorizer.transform(X_val)"
   ]
  },
  {
   "cell_type": "markdown",
   "metadata": {},
   "source": [
    "### DECISION TREE"
   ]
  },
  {
   "cell_type": "code",
   "execution_count": 11,
   "metadata": {},
   "outputs": [
    {
     "name": "stdout",
     "output_type": "stream",
     "text": [
      "Accuracy test: 0.60\n",
      "Class report test:\n",
      "              precision    recall  f1-score   support\n",
      "\n",
      "          -1       0.52      0.45      0.48       144\n",
      "           0       0.66      0.68      0.67       296\n",
      "           1       0.50      0.55      0.52       102\n",
      "\n",
      "    accuracy                           0.60       542\n",
      "   macro avg       0.56      0.56      0.56       542\n",
      "weighted avg       0.59      0.60      0.59       542\n",
      "\n",
      "Accuracy val: 0.60\n",
      "Class report validation:\n",
      "              precision    recall  f1-score   support\n",
      "\n",
      "          -1       0.46      0.43      0.44       134\n",
      "           0       0.65      0.70      0.68       299\n",
      "           1       0.62      0.52      0.57       109\n",
      "\n",
      "    accuracy                           0.60       542\n",
      "   macro avg       0.58      0.55      0.56       542\n",
      "weighted avg       0.60      0.60      0.60       542\n",
      "\n"
     ]
    }
   ],
   "source": [
    "model = DecisionTreeClassifier(random_state=42)\n",
    "model.fit(X_train_vec, y_train)\n",
    "y_test_pred = model.predict(X_test_vec)\n",
    "test_accuracy = accuracy_score(y_test, y_test_pred)\n",
    "test_class_report = classification_report(y_test, y_test_pred)\n",
    "\n",
    "print(f\"Accuracy test: {test_accuracy:.2f}\")\n",
    "print(f\"Class report test:\")\n",
    "print(test_class_report)\n",
    "\n",
    "y_val_pred = model.predict(X_val_vec)\n",
    "val_accuracy = accuracy_score(y_val, y_val_pred)\n",
    "val_class_report = classification_report(y_val, y_val_pred)\n",
    "\n",
    "print(f\"Accuracy val: {val_accuracy:.2f}\")\n",
    "print(f\"Class report validation:\")\n",
    "print(val_class_report)"
   ]
  },
  {
   "cell_type": "code",
   "execution_count": 12,
   "metadata": {},
   "outputs": [],
   "source": [
    "from sklearn.model_selection import GridSearchCV\n",
    "from sklearn.feature_extraction.text import CountVectorizer\n",
    "from sklearn.metrics import accuracy_score,confusion_matrix, classification_report"
   ]
  },
  {
   "cell_type": "code",
   "execution_count": 13,
   "metadata": {},
   "outputs": [
    {
     "name": "stdout",
     "output_type": "stream",
     "text": [
      "Tham số tốt nhất: {'criterion': 'gini', 'max_depth': 10, 'min_samples_leaf': 4, 'min_samples_split': 10}\n",
      "Accuracy test: 0.61\n",
      "Class report test:\n",
      "              precision    recall  f1-score   support\n",
      "\n",
      "          -1       0.69      0.20      0.31       144\n",
      "           0       0.60      0.89      0.72       296\n",
      "           1       0.55      0.35      0.43       102\n",
      "\n",
      "    accuracy                           0.61       542\n",
      "   macro avg       0.62      0.48      0.49       542\n",
      "weighted avg       0.62      0.61      0.56       542\n",
      "\n",
      "Accuracy val: 0.59\n",
      "Class report validation:\n",
      "              precision    recall  f1-score   support\n",
      "\n",
      "          -1       0.51      0.19      0.27       134\n",
      "           0       0.60      0.87      0.71       299\n",
      "           1       0.62      0.33      0.43       109\n",
      "\n",
      "    accuracy                           0.59       542\n",
      "   macro avg       0.58      0.46      0.47       542\n",
      "weighted avg       0.58      0.59      0.55       542\n",
      "\n"
     ]
    }
   ],
   "source": [
    "param_grid = {\n",
    "    'criterion': ['gini', 'entropy'], \n",
    "    'max_depth': [None, 10, 20, 30, 40, 50], \n",
    "    'min_samples_split': [2, 5, 10], \n",
    "    'min_samples_leaf': [1, 2, 4]  \n",
    "}\n",
    "\n",
    "# Sử dụng GridSearchCV để tìm kiếm tham số tốt nhất\n",
    "grid_search = GridSearchCV(model, param_grid, cv=5, scoring='accuracy', n_jobs=-1)\n",
    "grid_search.fit(X_train_vec, y_train)\n",
    "\n",
    "print(\"Tham số tốt nhất:\", grid_search.best_params_)\n",
    "\n",
    "best_model = grid_search.best_estimator_\n",
    "y_test_pred = best_model.predict(X_test_vec)\n",
    "test_accuracy = accuracy_score(y_test, y_test_pred)\n",
    "test_class_report = classification_report(y_test, y_test_pred)\n",
    "\n",
    "print(f\"Accuracy test: {test_accuracy:.2f}\")\n",
    "print(f\"Class report test:\")\n",
    "print(test_class_report)\n",
    "\n",
    "y_val_pred = best_model.predict(X_val_vec)\n",
    "val_accuracy = accuracy_score(y_val, y_val_pred)\n",
    "val_class_report = classification_report(y_val, y_val_pred)\n",
    "\n",
    "print(f\"Accuracy val: {val_accuracy:.2f}\")\n",
    "print(f\"Class report validation:\")\n",
    "print(val_class_report)"
   ]
  },
  {
   "cell_type": "code",
   "execution_count": 14,
   "metadata": {},
   "outputs": [
    {
     "name": "stdout",
     "output_type": "stream",
     "text": [
      "Accuracy: 0.67\n",
      "Confusion Matrix:\n",
      "[[ 45  95   4]\n",
      " [  9 270  17]\n",
      " [  2  50  50]]\n",
      "Classification Report:\n",
      "              precision    recall  f1-score   support\n",
      "\n",
      "          -1       0.80      0.31      0.45       144\n",
      "           0       0.65      0.91      0.76       296\n",
      "           1       0.70      0.49      0.58       102\n",
      "\n",
      "    accuracy                           0.67       542\n",
      "   macro avg       0.72      0.57      0.60       542\n",
      "weighted avg       0.70      0.67      0.64       542\n",
      "\n"
     ]
    }
   ],
   "source": [
    "from sklearn.ensemble import RandomForestClassifier\n",
    "rf_classifier = RandomForestClassifier(n_estimators=100, random_state=42)\n",
    "rf_classifier.fit(X_train_vec, y_train)\n",
    "\n",
    "# Dự đoán nhãn cho tập test\n",
    "y_pred = rf_classifier.predict(X_test_vec)\n",
    "\n",
    "# Đánh giá hiệu suất của mô hình\n",
    "accuracy = accuracy_score(y_test, y_pred)\n",
    "conf_matrix = confusion_matrix(y_test, y_pred)\n",
    "class_report = classification_report(y_test, y_pred)\n",
    "\n",
    "print(f\"Accuracy: {accuracy:.2f}\")\n",
    "print(\"Confusion Matrix:\")\n",
    "print(conf_matrix)\n",
    "print(\"Classification Report:\")\n",
    "print(class_report)"
   ]
  },
  {
   "cell_type": "code",
   "execution_count": 16,
   "metadata": {},
   "outputs": [
    {
     "name": "stdout",
     "output_type": "stream",
     "text": [
      "Accuracy: 0.67\n",
      "Confusion Matrix:\n",
      "[[ 42 100   2]\n",
      " [ 11 275  10]\n",
      " [  1  53  48]]\n",
      "Classification Report:\n",
      "              precision    recall  f1-score   support\n",
      "\n",
      "          -1       0.78      0.29      0.42       144\n",
      "           0       0.64      0.93      0.76       296\n",
      "           1       0.80      0.47      0.59       102\n",
      "\n",
      "    accuracy                           0.67       542\n",
      "   macro avg       0.74      0.56      0.59       542\n",
      "weighted avg       0.71      0.67      0.64       542\n",
      "\n"
     ]
    }
   ],
   "source": [
    "from sklearn.feature_extraction.text import TfidfVectorizer\n",
    "tfidf_vectorizer = TfidfVectorizer(max_features=5000)\n",
    "X_train_tfidf = tfidf_vectorizer.fit_transform(X_train)\n",
    "X_test_tfidf = tfidf_vectorizer.transform(X_test)\n",
    "\n",
    "# Khởi tạo và huấn luyện mô hình Random Forest\n",
    "rf_classifier = RandomForestClassifier(n_estimators=100, random_state=42)\n",
    "rf_classifier.fit(X_train_tfidf, y_train)\n",
    "\n",
    "# Dự đoán nhãn cho tập test\n",
    "y_pred = rf_classifier.predict(X_test_tfidf)\n",
    "\n",
    "# Đánh giá hiệu suất của mô hình\n",
    "accuracy = accuracy_score(y_test, y_pred)\n",
    "conf_matrix = confusion_matrix(y_test, y_pred)\n",
    "class_report = classification_report(y_test, y_pred)\n",
    "\n",
    "print(f\"Accuracy: {accuracy:.2f}\")\n",
    "print(\"Confusion Matrix:\")\n",
    "print(conf_matrix)\n",
    "print(\"Classification Report:\")\n",
    "print(class_report)"
   ]
  },
  {
   "cell_type": "code",
   "execution_count": 17,
   "metadata": {},
   "outputs": [
    {
     "name": "stdout",
     "output_type": "stream",
     "text": [
      "Tham số tốt nhất: {'max_depth': None, 'min_samples_leaf': 1, 'min_samples_split': 10, 'n_estimators': 200}\n",
      "Accuracy: 0.68\n",
      "Confusion Matrix:\n",
      "[[ 41 101   2]\n",
      " [  8 280   8]\n",
      " [  1  53  48]]\n",
      "Classification Report:\n",
      "              precision    recall  f1-score   support\n",
      "\n",
      "          -1       0.82      0.28      0.42       144\n",
      "           0       0.65      0.95      0.77       296\n",
      "           1       0.83      0.47      0.60       102\n",
      "\n",
      "    accuracy                           0.68       542\n",
      "   macro avg       0.76      0.57      0.60       542\n",
      "weighted avg       0.73      0.68      0.64       542\n",
      "\n"
     ]
    }
   ],
   "source": [
    "param_grid = {\n",
    "    'n_estimators': [100, 200, 300],\n",
    "    'max_depth': [None, 10, 20, 30],\n",
    "    'min_samples_split': [2, 5, 10],\n",
    "    'min_samples_leaf': [1, 2, 4]\n",
    "}\n",
    "rf_classifier = RandomForestClassifier(random_state=42)\n",
    "\n",
    "# Sử dụng GridSearchCV để tìm kiếm tham số tốt nhất\n",
    "grid_search = GridSearchCV(rf_classifier, param_grid, cv=5, scoring='accuracy', n_jobs=-1)\n",
    "grid_search.fit(X_train_tfidf, y_train)\n",
    "\n",
    "# In ra tham số tốt nhất\n",
    "print(\"Tham số tốt nhất:\", grid_search.best_params_)\n",
    "\n",
    "# Sử dụng mô hình tốt nhất để dự đoán và đánh giá trên tập test\n",
    "best_model = grid_search.best_estimator_\n",
    "y_pred = best_model.predict(X_test_tfidf)\n",
    "\n",
    "# Đánh giá hiệu suất của mô hình\n",
    "accuracy = accuracy_score(y_test, y_pred)\n",
    "conf_matrix = confusion_matrix(y_test, y_pred)\n",
    "class_report = classification_report(y_test, y_pred)\n",
    "\n",
    "print(f\"Accuracy: {accuracy:.2f}\")\n",
    "print(\"Confusion Matrix:\")\n",
    "print(conf_matrix)\n",
    "print(\"Classification Report:\")\n",
    "print(class_report)"
   ]
  },
  {
   "cell_type": "code",
   "execution_count": 18,
   "metadata": {},
   "outputs": [],
   "source": [
    "from sklearn.ensemble import BaggingClassifier,VotingClassifier\n",
    "from sklearn.svm import SVC\n",
    "from sklearn.naive_bayes import MultinomialNB\n",
    "from sklearn.linear_model import LogisticRegression"
   ]
  },
  {
   "cell_type": "code",
   "execution_count": 19,
   "metadata": {},
   "outputs": [],
   "source": [
    "from sklearn.metrics import roc_curve, auc\n",
    "import matplotlib.pyplot as plt"
   ]
  },
  {
   "cell_type": "code",
   "execution_count": 21,
   "metadata": {},
   "outputs": [
    {
     "name": "stdout",
     "output_type": "stream",
     "text": [
      "Accuracy: 0.7214022140221402\n",
      "              precision    recall  f1-score   support\n",
      "\n",
      "          -1       0.72      0.51      0.60       144\n",
      "           0       0.72      0.87      0.79       296\n",
      "           1       0.72      0.60      0.65       102\n",
      "\n",
      "    accuracy                           0.72       542\n",
      "   macro avg       0.72      0.66      0.68       542\n",
      "weighted avg       0.72      0.72      0.71       542\n",
      "\n"
     ]
    }
   ],
   "source": [
    "base_models = [\n",
    "    ('lr', LogisticRegression()),\n",
    "    ('svm', SVC(kernel='linear', probability=True)),\n",
    "    ('nb', MultinomialNB())\n",
    "]\n",
    "ensemble = VotingClassifier(base_models)\n",
    "# Tạo BaggingClassifier với các mô hình cơ sở\n",
    "bagging_model = BaggingClassifier(ensemble, n_estimators=20, random_state=42)\n",
    "\n",
    "# Huấn luyện mô hình\n",
    "bagging_model.fit(X_train_vec, y_train)\n",
    "\n",
    "\n",
    "# Dự đoán và đánh giá mô hình\n",
    "y_pred = bagging_model.predict(X_test_vec)\n",
    "accuracy = accuracy_score(y_test, y_pred)\n",
    "class_report = classification_report(y_test, y_pred)\n",
    "print(\"Accuracy:\", accuracy)\n",
    "print(class_report)"
   ]
  },
  {
   "cell_type": "code",
   "execution_count": 22,
   "metadata": {},
   "outputs": [
    {
     "name": "stdout",
     "output_type": "stream",
     "text": [
      "Accuracy: 0.7177121771217713\n",
      "              precision    recall  f1-score   support\n",
      "\n",
      "          -1       0.70      0.51      0.59       144\n",
      "           0       0.72      0.86      0.78       296\n",
      "           1       0.72      0.60      0.65       102\n",
      "\n",
      "    accuracy                           0.72       542\n",
      "   macro avg       0.71      0.66      0.68       542\n",
      "weighted avg       0.72      0.72      0.71       542\n",
      "\n"
     ]
    }
   ],
   "source": [
    "base_models = [\n",
    "    ('lr', LogisticRegression()),\n",
    "    ('svm', SVC(kernel='linear', probability=True)),\n",
    "    ('nb', MultinomialNB())\n",
    "]\n",
    "ensemble = VotingClassifier(base_models)\n",
    "# Tạo BaggingClassifier với các mô hình cơ sở\n",
    "bagging_model = BaggingClassifier(ensemble, n_estimators=30\n",
    "                                  , random_state=42)\n",
    "\n",
    "# Huấn luyện mô hình\n",
    "bagging_model.fit(X_train_vec, y_train)\n",
    "\n",
    "\n",
    "# Dự đoán và đánh giá mô hình\n",
    "y_pred = bagging_model.predict(X_test_vec)\n",
    "accuracy = accuracy_score(y_test, y_pred)\n",
    "class_report = classification_report(y_test, y_pred)\n",
    "print(\"Accuracy:\", accuracy)\n",
    "print(class_report)"
   ]
  },
  {
   "cell_type": "code",
   "execution_count": null,
   "metadata": {},
   "outputs": [],
   "source": []
  }
 ],
 "metadata": {
  "kernelspec": {
   "display_name": "Nyh_Py",
   "language": "python",
   "name": "python3"
  },
  "language_info": {
   "codemirror_mode": {
    "name": "ipython",
    "version": 3
   },
   "file_extension": ".py",
   "mimetype": "text/x-python",
   "name": "python",
   "nbconvert_exporter": "python",
   "pygments_lexer": "ipython3",
   "version": "3.12.0"
  }
 },
 "nbformat": 4,
 "nbformat_minor": 2
}
