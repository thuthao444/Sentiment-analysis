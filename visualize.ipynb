{
 "cells": [
  {
   "cell_type": "code",
   "execution_count": 1,
   "metadata": {},
   "outputs": [],
   "source": [
    "import numpy as np\n",
    "import pandas as pd\n",
    "import matplotlib.pyplot as plt\n",
    "import seaborn as sns"
   ]
  },
  {
   "cell_type": "code",
   "execution_count": 2,
   "metadata": {},
   "outputs": [
    {
     "data": {
      "text/html": [
       "<div>\n",
       "<style scoped>\n",
       "    .dataframe tbody tr th:only-of-type {\n",
       "        vertical-align: middle;\n",
       "    }\n",
       "\n",
       "    .dataframe tbody tr th {\n",
       "        vertical-align: top;\n",
       "    }\n",
       "\n",
       "    .dataframe thead th {\n",
       "        text-align: right;\n",
       "    }\n",
       "</style>\n",
       "<table border=\"1\" class=\"dataframe\">\n",
       "  <thead>\n",
       "    <tr style=\"text-align: right;\">\n",
       "      <th></th>\n",
       "      <th>comment_text</th>\n",
       "      <th>label</th>\n",
       "    </tr>\n",
       "  </thead>\n",
       "  <tbody>\n",
       "    <tr>\n",
       "      <th>0</th>\n",
       "      <td>Thật ra cái cfs nói ko sai mà. Lứa dv 8x còn c...</td>\n",
       "      <td>0</td>\n",
       "    </tr>\n",
       "    <tr>\n",
       "      <th>1</th>\n",
       "      <td>JCW có bộ Tội Ác Kinh Hoàng hay qá trời mỗi tộ...</td>\n",
       "      <td>1</td>\n",
       "    </tr>\n",
       "    <tr>\n",
       "      <th>2</th>\n",
       "      <td>Lee Min Ho đẹp trai mà một màu quá, đóng vai g...</td>\n",
       "      <td>0</td>\n",
       "    </tr>\n",
       "    <tr>\n",
       "      <th>3</th>\n",
       "      <td>Xem SJK đóng cậu út nhà tài phiệt thấy tụt moo...</td>\n",
       "      <td>-1</td>\n",
       "    </tr>\n",
       "    <tr>\n",
       "      <th>4</th>\n",
       "      <td>Trong này t công nhận diễn xuất của 3 ông\\nKSH...</td>\n",
       "      <td>1</td>\n",
       "    </tr>\n",
       "    <tr>\n",
       "      <th>...</th>\n",
       "      <td>...</td>\n",
       "      <td>...</td>\n",
       "    </tr>\n",
       "    <tr>\n",
       "      <th>2704</th>\n",
       "      <td>Dm ad viết t đọc t còn nhục hộ đám fan luôn ấy :)</td>\n",
       "      <td>-1</td>\n",
       "    </tr>\n",
       "    <tr>\n",
       "      <th>2705</th>\n",
       "      <td>Viết cái lyric thôi cũng éo ra hồn nữa là prod...</td>\n",
       "      <td>-1</td>\n",
       "    </tr>\n",
       "    <tr>\n",
       "      <th>2706</th>\n",
       "      <td>Tại con người ai cũng biết ngại, rất tiếc ảnh ...</td>\n",
       "      <td>-1</td>\n",
       "    </tr>\n",
       "    <tr>\n",
       "      <th>2707</th>\n",
       "      <td>Dẹp cái ông jack vớ vẩn này luôn đi cho trong ...</td>\n",
       "      <td>-1</td>\n",
       "    </tr>\n",
       "    <tr>\n",
       "      <th>2708</th>\n",
       "      <td>Mình thấy nước ngoài người ta làm nhạc là từ p...</td>\n",
       "      <td>0</td>\n",
       "    </tr>\n",
       "  </tbody>\n",
       "</table>\n",
       "<p>2709 rows × 2 columns</p>\n",
       "</div>"
      ],
      "text/plain": [
       "                                           comment_text  label\n",
       "0     Thật ra cái cfs nói ko sai mà. Lứa dv 8x còn c...      0\n",
       "1     JCW có bộ Tội Ác Kinh Hoàng hay qá trời mỗi tộ...      1\n",
       "2     Lee Min Ho đẹp trai mà một màu quá, đóng vai g...      0\n",
       "3     Xem SJK đóng cậu út nhà tài phiệt thấy tụt moo...     -1\n",
       "4     Trong này t công nhận diễn xuất của 3 ông\\nKSH...      1\n",
       "...                                                 ...    ...\n",
       "2704  Dm ad viết t đọc t còn nhục hộ đám fan luôn ấy :)     -1\n",
       "2705  Viết cái lyric thôi cũng éo ra hồn nữa là prod...     -1\n",
       "2706  Tại con người ai cũng biết ngại, rất tiếc ảnh ...     -1\n",
       "2707  Dẹp cái ông jack vớ vẩn này luôn đi cho trong ...     -1\n",
       "2708  Mình thấy nước ngoài người ta làm nhạc là từ p...      0\n",
       "\n",
       "[2709 rows x 2 columns]"
      ]
     },
     "execution_count": 2,
     "metadata": {},
     "output_type": "execute_result"
    }
   ],
   "source": [
    "df=pd.read_csv('Data/Data.csv')\n",
    "df"
   ]
  },
  {
   "cell_type": "code",
   "execution_count": 3,
   "metadata": {},
   "outputs": [
    {
     "data": {
      "text/plain": [
       "[Text(0.5, 1.0, 'Label Distribution')]"
      ]
     },
     "execution_count": 3,
     "metadata": {},
     "output_type": "execute_result"
    },
    {
     "data": {
      "image/png": "[encoded data removed]",
      "text/plain": [
       "<Figure size 640x480 with 1 Axes>"
      ]
     },
     "metadata": {},
     "output_type": "display_data"
    }
   ],
   "source": [
    "sns.countplot(x=\"label\",data=df).set(title=\"Label Distribution\")"
   ]
  },
  {
   "cell_type": "code",
   "execution_count": 4,
   "metadata": {},
   "outputs": [
    {
     "data": {
      "text/html": [
       "<div>\n",
       "<style scoped>\n",
       "    .dataframe tbody tr th:only-of-type {\n",
       "        vertical-align: middle;\n",
       "    }\n",
       "\n",
       "    .dataframe tbody tr th {\n",
       "        vertical-align: top;\n",
       "    }\n",
       "\n",
       "    .dataframe thead th {\n",
       "        text-align: right;\n",
       "    }\n",
       "</style>\n",
       "<table border=\"1\" class=\"dataframe\">\n",
       "  <thead>\n",
       "    <tr style=\"text-align: right;\">\n",
       "      <th></th>\n",
       "      <th>comment_text</th>\n",
       "      <th>label</th>\n",
       "      <th>length</th>\n",
       "    </tr>\n",
       "  </thead>\n",
       "  <tbody>\n",
       "    <tr>\n",
       "      <th>0</th>\n",
       "      <td>Thật ra cái cfs nói ko sai mà. Lứa dv 8x còn c...</td>\n",
       "      <td>0</td>\n",
       "      <td>244</td>\n",
       "    </tr>\n",
       "    <tr>\n",
       "      <th>1</th>\n",
       "      <td>JCW có bộ Tội Ác Kinh Hoàng hay qá trời mỗi tộ...</td>\n",
       "      <td>1</td>\n",
       "      <td>82</td>\n",
       "    </tr>\n",
       "    <tr>\n",
       "      <th>2</th>\n",
       "      <td>Lee Min Ho đẹp trai mà một màu quá, đóng vai g...</td>\n",
       "      <td>0</td>\n",
       "      <td>82</td>\n",
       "    </tr>\n",
       "    <tr>\n",
       "      <th>3</th>\n",
       "      <td>Xem SJK đóng cậu út nhà tài phiệt thấy tụt moo...</td>\n",
       "      <td>-1</td>\n",
       "      <td>128</td>\n",
       "    </tr>\n",
       "    <tr>\n",
       "      <th>4</th>\n",
       "      <td>Trong này t công nhận diễn xuất của 3 ông\\nKSH...</td>\n",
       "      <td>1</td>\n",
       "      <td>55</td>\n",
       "    </tr>\n",
       "    <tr>\n",
       "      <th>...</th>\n",
       "      <td>...</td>\n",
       "      <td>...</td>\n",
       "      <td>...</td>\n",
       "    </tr>\n",
       "    <tr>\n",
       "      <th>2704</th>\n",
       "      <td>Dm ad viết t đọc t còn nhục hộ đám fan luôn ấy :)</td>\n",
       "      <td>-1</td>\n",
       "      <td>49</td>\n",
       "    </tr>\n",
       "    <tr>\n",
       "      <th>2705</th>\n",
       "      <td>Viết cái lyric thôi cũng éo ra hồn nữa là prod...</td>\n",
       "      <td>-1</td>\n",
       "      <td>128</td>\n",
       "    </tr>\n",
       "    <tr>\n",
       "      <th>2706</th>\n",
       "      <td>Tại con người ai cũng biết ngại, rất tiếc ảnh ...</td>\n",
       "      <td>-1</td>\n",
       "      <td>62</td>\n",
       "    </tr>\n",
       "    <tr>\n",
       "      <th>2707</th>\n",
       "      <td>Dẹp cái ông jack vớ vẩn này luôn đi cho trong ...</td>\n",
       "      <td>-1</td>\n",
       "      <td>127</td>\n",
       "    </tr>\n",
       "    <tr>\n",
       "      <th>2708</th>\n",
       "      <td>Mình thấy nước ngoài người ta làm nhạc là từ p...</td>\n",
       "      <td>0</td>\n",
       "      <td>156</td>\n",
       "    </tr>\n",
       "  </tbody>\n",
       "</table>\n",
       "<p>2709 rows × 3 columns</p>\n",
       "</div>"
      ],
      "text/plain": [
       "                                           comment_text  label  length\n",
       "0     Thật ra cái cfs nói ko sai mà. Lứa dv 8x còn c...      0     244\n",
       "1     JCW có bộ Tội Ác Kinh Hoàng hay qá trời mỗi tộ...      1      82\n",
       "2     Lee Min Ho đẹp trai mà một màu quá, đóng vai g...      0      82\n",
       "3     Xem SJK đóng cậu út nhà tài phiệt thấy tụt moo...     -1     128\n",
       "4     Trong này t công nhận diễn xuất của 3 ông\\nKSH...      1      55\n",
       "...                                                 ...    ...     ...\n",
       "2704  Dm ad viết t đọc t còn nhục hộ đám fan luôn ấy :)     -1      49\n",
       "2705  Viết cái lyric thôi cũng éo ra hồn nữa là prod...     -1     128\n",
       "2706  Tại con người ai cũng biết ngại, rất tiếc ảnh ...     -1      62\n",
       "2707  Dẹp cái ông jack vớ vẩn này luôn đi cho trong ...     -1     127\n",
       "2708  Mình thấy nước ngoài người ta làm nhạc là từ p...      0     156\n",
       "\n",
       "[2709 rows x 3 columns]"
      ]
     },
     "execution_count": 4,
     "metadata": {},
     "output_type": "execute_result"
    }
   ],
   "source": [
    "df['length']=df['comment_text'].apply(len)\n",
    "df"
   ]
  },
  {
   "cell_type": "code",
   "execution_count": 5,
   "metadata": {},
   "outputs": [
    {
     "data": {
      "image/png": "[encoded data removed]",
      "text/plain": [
       "<Figure size 640x480 with 1 Axes>"
      ]
     },
     "metadata": {},
     "output_type": "display_data"
    }
   ],
   "source": [
    "plt.hist(df['length'],bins=1000)\n",
    "plt.xlabel('length')\n",
    "plt.ylabel('count')\n",
    "plt.title('Distribution of Length')\n",
    "plt.show()"
   ]
  },
  {
   "cell_type": "code",
   "execution_count": 6,
   "metadata": {},
   "outputs": [],
   "source": [
    "negative=df[df['label']==-1]\n",
    "neutral=df[df['label']==0]\n",
    "positive=df[df['label']==1]"
   ]
  },
  {
   "cell_type": "code",
   "execution_count": 7,
   "metadata": {},
   "outputs": [
    {
     "data": {
      "text/html": [
       "<div>\n",
       "<style scoped>\n",
       "    .dataframe tbody tr th:only-of-type {\n",
       "        vertical-align: middle;\n",
       "    }\n",
       "\n",
       "    .dataframe tbody tr th {\n",
       "        vertical-align: top;\n",
       "    }\n",
       "\n",
       "    .dataframe thead th {\n",
       "        text-align: right;\n",
       "    }\n",
       "</style>\n",
       "<table border=\"1\" class=\"dataframe\">\n",
       "  <thead>\n",
       "    <tr style=\"text-align: right;\">\n",
       "      <th></th>\n",
       "      <th>comment_text</th>\n",
       "      <th>label</th>\n",
       "      <th>length</th>\n",
       "    </tr>\n",
       "  </thead>\n",
       "  <tbody>\n",
       "    <tr>\n",
       "      <th>3</th>\n",
       "      <td>Xem SJK đóng cậu út nhà tài phiệt thấy tụt moo...</td>\n",
       "      <td>-1</td>\n",
       "      <td>128</td>\n",
       "    </tr>\n",
       "    <tr>\n",
       "      <th>39</th>\n",
       "      <td>Chơi đ.á rồi viết bài à. Đừng kéo anti cho KSH...</td>\n",
       "      <td>-1</td>\n",
       "      <td>160</td>\n",
       "    </tr>\n",
       "    <tr>\n",
       "      <th>41</th>\n",
       "      <td>Từ hồi li hôn là mặt SJK nó lồ lộ bản chất @@</td>\n",
       "      <td>-1</td>\n",
       "      <td>45</td>\n",
       "    </tr>\n",
       "    <tr>\n",
       "      <th>50</th>\n",
       "      <td>SJK giữ nhiệt bằng cách tạo drama</td>\n",
       "      <td>-1</td>\n",
       "      <td>33</td>\n",
       "    </tr>\n",
       "    <tr>\n",
       "      <th>78</th>\n",
       "      <td>Khanh Linh Tran t thấy ông này k có dáng ô chù...</td>\n",
       "      <td>-1</td>\n",
       "      <td>273</td>\n",
       "    </tr>\n",
       "  </tbody>\n",
       "</table>\n",
       "</div>"
      ],
      "text/plain": [
       "                                         comment_text  label  length\n",
       "3   Xem SJK đóng cậu út nhà tài phiệt thấy tụt moo...     -1     128\n",
       "39  Chơi đ.á rồi viết bài à. Đừng kéo anti cho KSH...     -1     160\n",
       "41      Từ hồi li hôn là mặt SJK nó lồ lộ bản chất @@     -1      45\n",
       "50                  SJK giữ nhiệt bằng cách tạo drama     -1      33\n",
       "78  Khanh Linh Tran t thấy ông này k có dáng ô chù...     -1     273"
      ]
     },
     "execution_count": 7,
     "metadata": {},
     "output_type": "execute_result"
    }
   ],
   "source": [
    "negative.head()"
   ]
  },
  {
   "cell_type": "code",
   "execution_count": 8,
   "metadata": {},
   "outputs": [
    {
     "data": {
      "image/png": "[encoded data removed]",
      "text/plain": [
       "<Figure size 640x480 with 1 Axes>"
      ]
     },
     "metadata": {},
     "output_type": "display_data"
    }
   ],
   "source": [
    "plt.hist(positive['length'],bins=1000)\n",
    "plt.xlabel('length')\n",
    "plt.ylabel('count')\n",
    "plt.title('Distribution of Positive Length')\n",
    "plt.show()"
   ]
  },
  {
   "cell_type": "code",
   "execution_count": 9,
   "metadata": {},
   "outputs": [
    {
     "data": {
      "image/png": "[encoded data removed]",
      "text/plain": [
       "<Figure size 640x480 with 1 Axes>"
      ]
     },
     "metadata": {},
     "output_type": "display_data"
    }
   ],
   "source": [
    "plt.hist(negative['length'],bins=1000)\n",
    "plt.xlabel('length')\n",
    "plt.ylabel('count')\n",
    "plt.title('Distribution of Positive Length')\n",
    "plt.show()"
   ]
  },
  {
   "cell_type": "code",
   "execution_count": 10,
   "metadata": {},
   "outputs": [
    {
     "data": {
      "image/png": "[encoded data removed]",
      "text/plain": [
       "<Figure size 640x480 with 1 Axes>"
      ]
     },
     "metadata": {},
     "output_type": "display_data"
    }
   ],
   "source": [
    "plt.hist(neutral['length'],bins=1000)\n",
    "plt.xlabel('length')\n",
    "plt.ylabel('count')\n",
    "plt.title('Distribution of Positive Length')\n",
    "plt.show()"
   ]
  },
  {
   "cell_type": "code",
   "execution_count": 11,
   "metadata": {},
   "outputs": [],
   "source": [
    "from sklearn.model_selection import train_test_split\n",
    "from sklearn.feature_extraction.text import CountVectorizer\n",
    "from sklearn import tree\n",
    "from sklearn.datasets import load_iris\n",
    "from sklearn.metrics import accuracy_score,confusion_matrix,classification_report"
   ]
  },
  {
   "cell_type": "code",
   "execution_count": 12,
   "metadata": {},
   "outputs": [],
   "source": [
    "X_train, X_test, y_train, y_test = train_test_split(df['comment_text'], df['label'], test_size=0.2, random_state=42)"
   ]
  },
  {
   "cell_type": "code",
   "execution_count": null,
   "metadata": {},
   "outputs": [],
   "source": [
    "model = LogisticRegression()\n",
    "model.fit(X_train, y_train)"
   ]
  },
  {
   "cell_type": "code",
   "execution_count": 13,
   "metadata": {},
   "outputs": [
    {
     "name": "stdout",
     "output_type": "stream",
     "text": [
      "Accuracy: 0.6199261992619927\n",
      "Classification Report:\n",
      "               precision    recall  f1-score   support\n",
      "\n",
      "          -1       0.55      0.45      0.49       142\n",
      "           0       0.67      0.73      0.70       291\n",
      "           1       0.56      0.56      0.56       109\n",
      "\n",
      "    accuracy                           0.62       542\n",
      "   macro avg       0.59      0.58      0.58       542\n",
      "weighted avg       0.61      0.62      0.62       542\n",
      "\n"
     ]
    }
   ],
   "source": [
    "# Chuyển đổi văn bản thành vectơ đặc trưng sử dụng CountVectorizer\n",
    "vectorizer = CountVectorizer()\n",
    "X_train_vec = vectorizer.fit_transform(X_train)\n",
    "X_test_vec = vectorizer.transform(X_test)\n",
    "\n",
    "# Xây dựng mô hình Decision Tree\n",
    "clf = tree.DecisionTreeClassifier()\n",
    "clf.fit(X_train_vec, y_train)\n",
    "\n",
    "# Đánh giá mô hình trên tập kiểm tra\n",
    "y_pred = clf.predict(X_test_vec)\n",
    "print(\"Accuracy:\", accuracy_score(y_test, y_pred))\n",
    "print(\"Classification Report:\\n\", classification_report(y_test, y_pred))\n"
   ]
  },
  {
   "cell_type": "code",
   "execution_count": 18,
   "metadata": {},
   "outputs": [
    {
     "name": "stdout",
     "output_type": "stream",
     "text": [
      "Collecting nltk\n",
      "  Downloading nltk-3.8.1-py3-none-any.whl.metadata (2.8 kB)\n",
      "Requirement already satisfied: click in d:\\setup\\miniconda\\envs\\nyh_py\\lib\\site-packages (from nltk) (8.1.7)\n",
      "Requirement already satisfied: joblib in d:\\setup\\miniconda\\envs\\nyh_py\\lib\\site-packages (from nltk) (1.3.2)\n",
      "Collecting regex>=2021.8.3 (from nltk)\n",
      "  Downloading regex-2024.5.15-cp312-cp312-win_amd64.whl.metadata (41 kB)\n",
      "     ---------------------------------------- 0.0/42.0 kB ? eta -:--:--\n",
      "     ---------------------------------------- 0.0/42.0 kB ? eta -:--:--\n",
      "     --------- ------------------------------ 10.2/42.0 kB ? eta -:--:--\n",
      "     ------------------ ------------------- 20.5/42.0 kB 217.9 kB/s eta 0:00:01\n",
      "     --------------------------- ---------- 30.7/42.0 kB 220.2 kB/s eta 0:00:01\n",
      "     -------------------------------------- 42.0/42.0 kB 184.5 kB/s eta 0:00:00\n",
      "Requirement already satisfied: tqdm in d:\\setup\\miniconda\\envs\\nyh_py\\lib\\site-packages (from nltk) (4.66.2)\n",
      "Requirement already satisfied: colorama in d:\\setup\\miniconda\\envs\\nyh_py\\lib\\site-packages (from click->nltk) (0.4.6)\n",
      "Downloading nltk-3.8.1-py3-none-any.whl (1.5 MB)\n",
      "   ---------------------------------------- 0.0/1.5 MB ? eta -:--:--\n",
      "    --------------------------------------- 0.0/1.5 MB 1.3 MB/s eta 0:00:02\n",
      "   --- ------------------------------------ 0.1/1.5 MB 1.7 MB/s eta 0:00:01\n",
      "   ----------- ---------------------------- 0.4/1.5 MB 2.6 MB/s eta 0:00:01\n",
      "   ------------------ --------------------- 0.7/1.5 MB 3.3 MB/s eta 0:00:01\n",
      "   ------------------------- -------------- 1.0/1.5 MB 3.6 MB/s eta 0:00:01\n",
      "   --------------------------- ------------ 1.1/1.5 MB 3.5 MB/s eta 0:00:01\n",
      "   ---------------------------------------  1.5/1.5 MB 4.0 MB/s eta 0:00:01\n",
      "   ---------------------------------------  1.5/1.5 MB 4.0 MB/s eta 0:00:01\n",
      "   ---------------------------------------- 1.5/1.5 MB 3.2 MB/s eta 0:00:00\n",
      "Downloading regex-2024.5.15-cp312-cp312-win_amd64.whl (268 kB)\n",
      "   ---------------------------------------- 0.0/268.5 kB ? eta -:--:--\n",
      "   --------------------------------------  266.2/268.5 kB 17.1 MB/s eta 0:00:01\n",
      "   ---------------------------------------- 268.5/268.5 kB 3.3 MB/s eta 0:00:00\n",
      "Installing collected packages: regex, nltk\n",
      "Successfully installed nltk-3.8.1 regex-2024.5.15\n"
     ]
    }
   ],
   "source": [
    "!pip install nltk\n",
    "from collections import Counter\n",
    "from sklearn.feature_extraction.text import CountVectorizer\n",
    "import re\n",
    "from nltk.corpus import stopwords\n",
    "import nltk"
   ]
  },
  {
   "cell_type": "code",
   "execution_count": 27,
   "metadata": {},
   "outputs": [],
   "source": [
    "vietnamese_stopwords=pd.read_csv(\"Vietnamese_data/vietnamese-stop-words.txt\")"
   ]
  },
  {
   "cell_type": "code",
   "execution_count": 29,
   "metadata": {},
   "outputs": [],
   "source": [
    "\n",
    "def preprocess_text(text):\n",
    "    # Chuyển đổi thành chữ thường\n",
    "    text = text.lower()\n",
    "    # Loại bỏ các ký tự đặc biệt\n",
    "    text = re.sub(r'\\W', ' ', text)\n",
    "    # Loại bỏ các từ không mang nhiều ý nghĩa\n",
    "    text = ' '.join([word for word in text.split() if word not in vietnamese_stopwords])\n",
    "    return text"
   ]
  },
  {
   "cell_type": "code",
   "execution_count": 36,
   "metadata": {},
   "outputs": [],
   "source": [
    "def common_text(df):\n",
    "    df['cleaned_text'] = df['comment_text'].apply(preprocess_text)\n",
    "    word_counter = Counter()\n",
    "    for text in df['cleaned_text']:\n",
    "        word_counter.update(text.split())\n",
    "\n",
    "    # In ra các từ được sử dụng nhiều nhất\n",
    "    print(\"Các từ được sử dụng nhiều nhất:\")\n",
    "    for word, count in word_counter.most_common(10):\n",
    "        print(f\"{word}: {count}\")\n",
    "\n",
    "    # Thống kê các cụm từ (n-grams)\n",
    "    vectorizer = CountVectorizer(ngram_range=(2, 4))  # Tạo ra các bigram và trigram\n",
    "    X = vectorizer.fit_transform(df['cleaned_text'])\n",
    "    sum_words = X.sum(axis=0)\n",
    "    words_freq = [(word, sum_words[0, idx]) for word, idx in vectorizer.vocabulary_.items()]\n",
    "    words_freq = sorted(words_freq, key = lambda x: x[1], reverse=True)\n",
    "\n",
    "    # In ra các cụm từ được sử dụng nhiều nhất\n",
    "    print(\"\\nCác cụm từ (n-grams) được sử dụng nhiều nhất:\")\n",
    "    for word, count in words_freq[:10]:\n",
    "        print(f\"{word}: {count}\")"
   ]
  },
  {
   "cell_type": "code",
   "execution_count": 37,
   "metadata": {},
   "outputs": [
    {
     "name": "stdout",
     "output_type": "stream",
     "text": [
      "Các từ được sử dụng nhiều nhất:\n",
      "là: 1143\n",
      "có: 1011\n",
      "mà: 891\n",
      "thì: 867\n",
      "hát: 686\n",
      "này: 582\n",
      "cũng: 567\n",
      "của: 549\n",
      "ko: 532\n",
      "không: 531\n",
      "\n",
      "Các cụm từ (n-grams) được sử dụng nhiều nhất:\n",
      "ca sĩ: 128\n",
      "giọng hát: 83\n",
      "người ta: 75\n",
      "hát hay: 72\n",
      "trấn thành: 66\n",
      "âm nhạc: 65\n",
      "có thể: 61\n",
      "kết hợp: 60\n",
      "đàn ông: 57\n",
      "ko phải: 51\n"
     ]
    }
   ],
   "source": [
    "common_text(df)"
   ]
  },
  {
   "cell_type": "code",
   "execution_count": 38,
   "metadata": {},
   "outputs": [
    {
     "name": "stderr",
     "output_type": "stream",
     "text": [
      "C:\\Users\\vupho\\AppData\\Local\\Temp\\ipykernel_15164\\2728172635.py:2: SettingWithCopyWarning: \n",
      "A value is trying to be set on a copy of a slice from a DataFrame.\n",
      "Try using .loc[row_indexer,col_indexer] = value instead\n",
      "\n",
      "See the caveats in the documentation: https://pandas.pydata.org/pandas-docs/stable/user_guide/indexing.html#returning-a-view-versus-a-copy\n",
      "  df['cleaned_text'] = df['comment_text'].apply(preprocess_text)\n"
     ]
    },
    {
     "name": "stdout",
     "output_type": "stream",
     "text": [
      "Các từ được sử dụng nhiều nhất:\n",
      "là: 155\n",
      "hay: 143\n",
      "của: 142\n",
      "mà: 115\n",
      "hát: 111\n",
      "quá: 106\n",
      "này: 104\n",
      "luôn: 104\n",
      "có: 100\n",
      "và: 97\n",
      "\n",
      "Các cụm từ (n-grams) được sử dụng nhiều nhất:\n",
      "kết hợp: 39\n",
      "phụ nữ: 24\n",
      "giọng hát: 23\n",
      "tinh tế: 21\n",
      "hát hay: 21\n",
      "bài hát: 20\n",
      "bà cam: 20\n",
      "xứng đáng: 19\n",
      "thông điệp: 18\n",
      "âm nhạc: 18\n"
     ]
    }
   ],
   "source": [
    "common_text(positive)"
   ]
  },
  {
   "cell_type": "code",
   "execution_count": 39,
   "metadata": {},
   "outputs": [
    {
     "name": "stderr",
     "output_type": "stream",
     "text": [
      "C:\\Users\\vupho\\AppData\\Local\\Temp\\ipykernel_15164\\2728172635.py:2: SettingWithCopyWarning: \n",
      "A value is trying to be set on a copy of a slice from a DataFrame.\n",
      "Try using .loc[row_indexer,col_indexer] = value instead\n",
      "\n",
      "See the caveats in the documentation: https://pandas.pydata.org/pandas-docs/stable/user_guide/indexing.html#returning-a-view-versus-a-copy\n",
      "  df['cleaned_text'] = df['comment_text'].apply(preprocess_text)\n"
     ]
    },
    {
     "name": "stdout",
     "output_type": "stream",
     "text": [
      "Các từ được sử dụng nhiều nhất:\n",
      "là: 292\n",
      "thì: 267\n",
      "có: 265\n",
      "mà: 245\n",
      "nó: 189\n",
      "cái: 180\n",
      "hát: 176\n",
      "cũng: 174\n",
      "này: 166\n",
      "như: 148\n",
      "\n",
      "Các cụm từ (n-grams) được sử dụng nhiều nhất:\n",
      "đàn ông: 42\n",
      "đàn bà: 25\n",
      "ăn cháo: 24\n",
      "cháo đá: 23\n",
      "ăn cháo đá: 23\n",
      "thằng này: 22\n",
      "đá bát: 22\n",
      "cháo đá bát: 22\n",
      "ăn cháo đá bát: 22\n",
      "người ta: 21\n"
     ]
    }
   ],
   "source": [
    "common_text(negative)"
   ]
  },
  {
   "cell_type": "code",
   "execution_count": 55,
   "metadata": {},
   "outputs": [
    {
     "data": {
      "text/html": [
       "<div>\n",
       "<style scoped>\n",
       "    .dataframe tbody tr th:only-of-type {\n",
       "        vertical-align: middle;\n",
       "    }\n",
       "\n",
       "    .dataframe tbody tr th {\n",
       "        vertical-align: top;\n",
       "    }\n",
       "\n",
       "    .dataframe thead th {\n",
       "        text-align: right;\n",
       "    }\n",
       "</style>\n",
       "<table border=\"1\" class=\"dataframe\">\n",
       "  <thead>\n",
       "    <tr style=\"text-align: right;\">\n",
       "      <th></th>\n",
       "      <th>comment_text</th>\n",
       "      <th>label</th>\n",
       "      <th>length</th>\n",
       "      <th>cleaned_text</th>\n",
       "    </tr>\n",
       "  </thead>\n",
       "  <tbody>\n",
       "    <tr>\n",
       "      <th>0</th>\n",
       "      <td>Thật ra cái cfs nói ko sai mà. Lứa dv 8x còn c...</td>\n",
       "      <td>0</td>\n",
       "      <td>244</td>\n",
       "      <td>thật ra cái cfs nói ko sai mà lứa dv 8x còn ch...</td>\n",
       "    </tr>\n",
       "    <tr>\n",
       "      <th>1</th>\n",
       "      <td>JCW có bộ Tội Ác Kinh Hoàng hay qá trời mỗi tộ...</td>\n",
       "      <td>1</td>\n",
       "      <td>82</td>\n",
       "      <td>jcw có bộ tội ác kinh hoàng hay qá trời mỗi tộ...</td>\n",
       "    </tr>\n",
       "    <tr>\n",
       "      <th>2</th>\n",
       "      <td>Lee Min Ho đẹp trai mà một màu quá, đóng vai g...</td>\n",
       "      <td>0</td>\n",
       "      <td>82</td>\n",
       "      <td>lee min ho đẹp trai mà một màu quá đóng vai gì...</td>\n",
       "    </tr>\n",
       "    <tr>\n",
       "      <th>3</th>\n",
       "      <td>Xem SJK đóng cậu út nhà tài phiệt thấy tụt moo...</td>\n",
       "      <td>-1</td>\n",
       "      <td>128</td>\n",
       "      <td>xem sjk đóng cậu út nhà tài phiệt thấy tụt moo...</td>\n",
       "    </tr>\n",
       "    <tr>\n",
       "      <th>4</th>\n",
       "      <td>Trong này t công nhận diễn xuất của 3 ông\\nKSH...</td>\n",
       "      <td>1</td>\n",
       "      <td>55</td>\n",
       "      <td>trong này t công nhận diễn xuất của 3 ông ksh ...</td>\n",
       "    </tr>\n",
       "    <tr>\n",
       "      <th>...</th>\n",
       "      <td>...</td>\n",
       "      <td>...</td>\n",
       "      <td>...</td>\n",
       "      <td>...</td>\n",
       "    </tr>\n",
       "    <tr>\n",
       "      <th>2704</th>\n",
       "      <td>Dm ad viết t đọc t còn nhục hộ đám fan luôn ấy :)</td>\n",
       "      <td>-1</td>\n",
       "      <td>49</td>\n",
       "      <td>dm ad viết t đọc t còn nhục hộ đám fan luôn ấy</td>\n",
       "    </tr>\n",
       "    <tr>\n",
       "      <th>2705</th>\n",
       "      <td>Viết cái lyric thôi cũng éo ra hồn nữa là prod...</td>\n",
       "      <td>-1</td>\n",
       "      <td>128</td>\n",
       "      <td>viết cái lyric thôi cũng éo ra hồn nữa là prod...</td>\n",
       "    </tr>\n",
       "    <tr>\n",
       "      <th>2706</th>\n",
       "      <td>Tại con người ai cũng biết ngại, rất tiếc ảnh ...</td>\n",
       "      <td>-1</td>\n",
       "      <td>62</td>\n",
       "      <td>tại con người ai cũng biết ngại rất tiếc ảnh k...</td>\n",
       "    </tr>\n",
       "    <tr>\n",
       "      <th>2707</th>\n",
       "      <td>Dẹp cái ông jack vớ vẩn này luôn đi cho trong ...</td>\n",
       "      <td>-1</td>\n",
       "      <td>127</td>\n",
       "      <td>dẹp cái ông jack vớ vẩn này luôn đi cho trong ...</td>\n",
       "    </tr>\n",
       "    <tr>\n",
       "      <th>2708</th>\n",
       "      <td>Mình thấy nước ngoài người ta làm nhạc là từ p...</td>\n",
       "      <td>0</td>\n",
       "      <td>156</td>\n",
       "      <td>mình thấy nước ngoài người ta làm nhạc là từ p...</td>\n",
       "    </tr>\n",
       "  </tbody>\n",
       "</table>\n",
       "<p>2709 rows × 4 columns</p>\n",
       "</div>"
      ],
      "text/plain": [
       "                                           comment_text  label  length  \\\n",
       "0     Thật ra cái cfs nói ko sai mà. Lứa dv 8x còn c...      0     244   \n",
       "1     JCW có bộ Tội Ác Kinh Hoàng hay qá trời mỗi tộ...      1      82   \n",
       "2     Lee Min Ho đẹp trai mà một màu quá, đóng vai g...      0      82   \n",
       "3     Xem SJK đóng cậu út nhà tài phiệt thấy tụt moo...     -1     128   \n",
       "4     Trong này t công nhận diễn xuất của 3 ông\\nKSH...      1      55   \n",
       "...                                                 ...    ...     ...   \n",
       "2704  Dm ad viết t đọc t còn nhục hộ đám fan luôn ấy :)     -1      49   \n",
       "2705  Viết cái lyric thôi cũng éo ra hồn nữa là prod...     -1     128   \n",
       "2706  Tại con người ai cũng biết ngại, rất tiếc ảnh ...     -1      62   \n",
       "2707  Dẹp cái ông jack vớ vẩn này luôn đi cho trong ...     -1     127   \n",
       "2708  Mình thấy nước ngoài người ta làm nhạc là từ p...      0     156   \n",
       "\n",
       "                                           cleaned_text  \n",
       "0     thật ra cái cfs nói ko sai mà lứa dv 8x còn ch...  \n",
       "1     jcw có bộ tội ác kinh hoàng hay qá trời mỗi tộ...  \n",
       "2     lee min ho đẹp trai mà một màu quá đóng vai gì...  \n",
       "3     xem sjk đóng cậu út nhà tài phiệt thấy tụt moo...  \n",
       "4     trong này t công nhận diễn xuất của 3 ông ksh ...  \n",
       "...                                                 ...  \n",
       "2704     dm ad viết t đọc t còn nhục hộ đám fan luôn ấy  \n",
       "2705  viết cái lyric thôi cũng éo ra hồn nữa là prod...  \n",
       "2706  tại con người ai cũng biết ngại rất tiếc ảnh k...  \n",
       "2707  dẹp cái ông jack vớ vẩn này luôn đi cho trong ...  \n",
       "2708  mình thấy nước ngoài người ta làm nhạc là từ p...  \n",
       "\n",
       "[2709 rows x 4 columns]"
      ]
     },
     "execution_count": 55,
     "metadata": {},
     "output_type": "execute_result"
    }
   ],
   "source": [
    "df"
   ]
  },
  {
   "cell_type": "code",
   "execution_count": 40,
   "metadata": {},
   "outputs": [
    {
     "name": "stderr",
     "output_type": "stream",
     "text": [
      "C:\\Users\\vupho\\AppData\\Local\\Temp\\ipykernel_15164\\2728172635.py:2: SettingWithCopyWarning: \n",
      "A value is trying to be set on a copy of a slice from a DataFrame.\n",
      "Try using .loc[row_indexer,col_indexer] = value instead\n",
      "\n",
      "See the caveats in the documentation: https://pandas.pydata.org/pandas-docs/stable/user_guide/indexing.html#returning-a-view-versus-a-copy\n",
      "  df['cleaned_text'] = df['comment_text'].apply(preprocess_text)\n"
     ]
    },
    {
     "name": "stdout",
     "output_type": "stream",
     "text": [
      "Các từ được sử dụng nhiều nhất:\n",
      "là: 696\n",
      "có: 646\n",
      "thì: 535\n",
      "mà: 531\n",
      "hát: 399\n",
      "ko: 355\n",
      "không: 345\n",
      "cũng: 331\n",
      "này: 312\n",
      "của: 287\n",
      "\n",
      "Các cụm từ (n-grams) được sử dụng nhiều nhất:\n",
      "ca sĩ: 96\n",
      "người ta: 53\n",
      "giọng hát: 51\n",
      "trấn thành: 39\n",
      "so sánh: 34\n",
      "có thể: 33\n",
      "âm nhạc: 33\n",
      "bài này: 32\n",
      "không biết: 32\n",
      "hát hay: 32\n"
     ]
    }
   ],
   "source": [
    "common_text(neutral)"
   ]
  },
  {
   "cell_type": "code",
   "execution_count": null,
   "metadata": {},
   "outputs": [],
   "source": []
  }
 ],
 "metadata": {
  "kernelspec": {
   "display_name": "Nyh_Py",
   "language": "python",
   "name": "python3"
  },
  "language_info": {
   "codemirror_mode": {
    "name": "ipython",
    "version": 3
   },
   "file_extension": ".py",
   "mimetype": "text/x-python",
   "name": "python",
   "nbconvert_exporter": "python",
   "pygments_lexer": "ipython3",
   "version": "3.12.0"
  }
 },
 "nbformat": 4,
 "nbformat_minor": 2
}
