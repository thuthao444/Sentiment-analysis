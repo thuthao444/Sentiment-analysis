{
 "cells": [
  {
   "cell_type": "code",
   "execution_count": 102,
   "metadata": {},
   "outputs": [],
   "source": [
    "import pandas as pd"
   ]
  },
  {
   "cell_type": "code",
   "execution_count": 103,
   "metadata": {},
   "outputs": [],
   "source": [
    "df = pd.read_csv(\"Data/comments.csv\")\n",
    "data = df['comment_text']"
   ]
  },
  {
   "cell_type": "code",
   "execution_count": 104,
   "metadata": {},
   "outputs": [
    {
     "data": {
      "text/html": [
       "<div>\n",
       "<style scoped>\n",
       "    .dataframe tbody tr th:only-of-type {\n",
       "        vertical-align: middle;\n",
       "    }\n",
       "\n",
       "    .dataframe tbody tr th {\n",
       "        vertical-align: top;\n",
       "    }\n",
       "\n",
       "    .dataframe thead th {\n",
       "        text-align: right;\n",
       "    }\n",
       "</style>\n",
       "<table border=\"1\" class=\"dataframe\">\n",
       "  <thead>\n",
       "    <tr style=\"text-align: right;\">\n",
       "      <th></th>\n",
       "      <th>comment_text</th>\n",
       "    </tr>\n",
       "  </thead>\n",
       "  <tbody>\n",
       "    <tr>\n",
       "      <th>0</th>\n",
       "      <td>ĐÂY LÀ LINK SHOPEE.\\nDạo này tui khá rảnh nên ...</td>\n",
       "    </tr>\n",
       "    <tr>\n",
       "      <th>1</th>\n",
       "      <td>Thật ra cái cfs nói ko sai mà. Lứa dv 8x còn c...</td>\n",
       "    </tr>\n",
       "    <tr>\n",
       "      <th>2</th>\n",
       "      <td>JCW có bộ Tội Ác Kinh Hoàng hay qá trời mỗi tộ...</td>\n",
       "    </tr>\n",
       "    <tr>\n",
       "      <th>3</th>\n",
       "      <td>Lee Min Ho đẹp trai mà một màu quá, đóng vai g...</td>\n",
       "    </tr>\n",
       "    <tr>\n",
       "      <th>4</th>\n",
       "      <td>Xem SJK đóng cậu út nhà tài phiệt thấy tụt moo...</td>\n",
       "    </tr>\n",
       "    <tr>\n",
       "      <th>...</th>\n",
       "      <td>...</td>\n",
       "    </tr>\n",
       "    <tr>\n",
       "      <th>5124</th>\n",
       "      <td>Khánh Hưng e fan jack nè đk</td>\n",
       "    </tr>\n",
       "    <tr>\n",
       "      <th>5125</th>\n",
       "      <td>Kỳ Duyên thấy đúng khi hồi xưa bía cây ây ti em 😋</td>\n",
       "    </tr>\n",
       "    <tr>\n",
       "      <th>5126</th>\n",
       "      <td>còn là gv âm nhậc nữa nhé..ok 🐧🐧🐧</td>\n",
       "    </tr>\n",
       "    <tr>\n",
       "      <th>5127</th>\n",
       "      <td>97 mà là gen Z ?</td>\n",
       "    </tr>\n",
       "    <tr>\n",
       "      <th>5128</th>\n",
       "      <td>Tau thách thằng Jack mà biết nốt sol.t đâm đầu...</td>\n",
       "    </tr>\n",
       "  </tbody>\n",
       "</table>\n",
       "<p>5129 rows × 1 columns</p>\n",
       "</div>"
      ],
      "text/plain": [
       "                                           comment_text\n",
       "0     ĐÂY LÀ LINK SHOPEE.\\nDạo này tui khá rảnh nên ...\n",
       "1     Thật ra cái cfs nói ko sai mà. Lứa dv 8x còn c...\n",
       "2     JCW có bộ Tội Ác Kinh Hoàng hay qá trời mỗi tộ...\n",
       "3     Lee Min Ho đẹp trai mà một màu quá, đóng vai g...\n",
       "4     Xem SJK đóng cậu út nhà tài phiệt thấy tụt moo...\n",
       "...                                                 ...\n",
       "5124                        Khánh Hưng e fan jack nè đk\n",
       "5125  Kỳ Duyên thấy đúng khi hồi xưa bía cây ây ti em 😋\n",
       "5126                  còn là gv âm nhậc nữa nhé..ok 🐧🐧🐧\n",
       "5127                                   97 mà là gen Z ?\n",
       "5128  Tau thách thằng Jack mà biết nốt sol.t đâm đầu...\n",
       "\n",
       "[5129 rows x 1 columns]"
      ]
     },
     "execution_count": 104,
     "metadata": {},
     "output_type": "execute_result"
    }
   ],
   "source": [
    "df"
   ]
  },
  {
   "cell_type": "code",
   "execution_count": 105,
   "metadata": {},
   "outputs": [],
   "source": [
    "data = data.drop_duplicates()"
   ]
  },
  {
   "cell_type": "code",
   "execution_count": 106,
   "metadata": {},
   "outputs": [],
   "source": [
    "data = data[~data.str.contains('ĐÂY LÀ LINK SHOPEE')]"
   ]
  },
  {
   "cell_type": "code",
   "execution_count": 107,
   "metadata": {},
   "outputs": [],
   "source": [
    "data = data.reset_index(drop=True)"
   ]
  },
  {
   "cell_type": "code",
   "execution_count": 108,
   "metadata": {},
   "outputs": [
    {
     "data": {
      "text/plain": [
       "0       Thật ra cái cfs nói ko sai mà. Lứa dv 8x còn c...\n",
       "1       JCW có bộ Tội Ác Kinh Hoàng hay qá trời mỗi tộ...\n",
       "2       Lee Min Ho đẹp trai mà một màu quá, đóng vai g...\n",
       "3       Xem SJK đóng cậu út nhà tài phiệt thấy tụt moo...\n",
       "4       Trong này t công nhận diễn xuất của 3 ông\\nKSH...\n",
       "                              ...                        \n",
       "5036                          Khánh Hưng e fan jack nè đk\n",
       "5037    Kỳ Duyên thấy đúng khi hồi xưa bía cây ây ti em 😋\n",
       "5038                    còn là gv âm nhậc nữa nhé..ok 🐧🐧🐧\n",
       "5039                                     97 mà là gen Z ?\n",
       "5040    Tau thách thằng Jack mà biết nốt sol.t đâm đầu...\n",
       "Name: comment_text, Length: 5041, dtype: object"
      ]
     },
     "execution_count": 108,
     "metadata": {},
     "output_type": "execute_result"
    }
   ],
   "source": [
    "data"
   ]
  },
  {
   "cell_type": "code",
   "execution_count": 109,
   "metadata": {},
   "outputs": [],
   "source": [
    "data.to_csv(\"Data/comments.csv\", index=False, header=True)"
   ]
  }
 ],
 "metadata": {
  "kernelspec": {
   "display_name": "Python 3",
   "language": "python",
   "name": "python3"
  },
  "language_info": {
   "codemirror_mode": {
    "name": "ipython",
    "version": 3
   },
   "file_extension": ".py",
   "mimetype": "text/x-python",
   "name": "python",
   "nbconvert_exporter": "python",
   "pygments_lexer": "ipython3",
   "version": "3.12.2"
  }
 },
 "nbformat": 4,
 "nbformat_minor": 2
}
